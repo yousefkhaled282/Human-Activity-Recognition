{
 "cells": [
  {
   "cell_type": "code",
   "execution_count": 1,
   "metadata": {},
   "outputs": [],
   "source": [
    "import pandas as pd\n",
    "import numpy as np\n",
    "from sklearn.model_selection import train_test_split\n",
    "from sklearn.preprocessing import StandardScaler, LabelEncoder\n",
    "from scipy import stats\n"
   ]
  },
  {
   "cell_type": "code",
   "execution_count": 2,
   "metadata": {},
   "outputs": [
    {
     "name": "stdout",
     "output_type": "stream",
     "text": [
      "2.6.0\n"
     ]
    }
   ],
   "source": [
    "import tensorflow as tf\n",
    "from tensorflow.keras import Sequential\n",
    "from tensorflow.keras.layers import Flatten, Dense, Dropout, BatchNormalization\n",
    "from tensorflow.keras.layers import Conv2D, MaxPool2D\n",
    "from tensorflow.keras.optimizers import Adam\n",
    "print(tf.__version__)"
   ]
  },
  {
   "cell_type": "code",
   "execution_count": 3,
   "metadata": {},
   "outputs": [],
   "source": [
    "df=pd.read_excel('appdata.xlsx')"
   ]
  },
  {
   "cell_type": "code",
   "execution_count": 55,
   "metadata": {},
   "outputs": [],
   "source": [
    "# df=pd.read_csv('test_appdata.csv')"
   ]
  },
  {
   "cell_type": "code",
   "execution_count": 4,
   "metadata": {},
   "outputs": [
    {
     "data": {
      "text/html": [
       "<div>\n",
       "<style scoped>\n",
       "    .dataframe tbody tr th:only-of-type {\n",
       "        vertical-align: middle;\n",
       "    }\n",
       "\n",
       "    .dataframe tbody tr th {\n",
       "        vertical-align: top;\n",
       "    }\n",
       "\n",
       "    .dataframe thead th {\n",
       "        text-align: right;\n",
       "    }\n",
       "</style>\n",
       "<table border=\"1\" class=\"dataframe\">\n",
       "  <thead>\n",
       "    <tr style=\"text-align: right;\">\n",
       "      <th></th>\n",
       "      <th>timeElapsed</th>\n",
       "      <th>x</th>\n",
       "      <th>y</th>\n",
       "      <th>z</th>\n",
       "      <th>label</th>\n",
       "    </tr>\n",
       "  </thead>\n",
       "  <tbody>\n",
       "    <tr>\n",
       "      <td>0</td>\n",
       "      <td>0</td>\n",
       "      <td>9.38</td>\n",
       "      <td>-1.48</td>\n",
       "      <td>2.62</td>\n",
       "      <td>Sitting</td>\n",
       "    </tr>\n",
       "    <tr>\n",
       "      <td>1</td>\n",
       "      <td>1</td>\n",
       "      <td>9.37</td>\n",
       "      <td>-1.47</td>\n",
       "      <td>2.64</td>\n",
       "      <td>Sitting</td>\n",
       "    </tr>\n",
       "    <tr>\n",
       "      <td>2</td>\n",
       "      <td>2</td>\n",
       "      <td>9.39</td>\n",
       "      <td>-1.49</td>\n",
       "      <td>2.64</td>\n",
       "      <td>Sitting</td>\n",
       "    </tr>\n",
       "    <tr>\n",
       "      <td>3</td>\n",
       "      <td>3</td>\n",
       "      <td>9.37</td>\n",
       "      <td>-1.49</td>\n",
       "      <td>2.62</td>\n",
       "      <td>Sitting</td>\n",
       "    </tr>\n",
       "    <tr>\n",
       "      <td>4</td>\n",
       "      <td>4</td>\n",
       "      <td>9.38</td>\n",
       "      <td>-1.50</td>\n",
       "      <td>2.62</td>\n",
       "      <td>Sitting</td>\n",
       "    </tr>\n",
       "  </tbody>\n",
       "</table>\n",
       "</div>"
      ],
      "text/plain": [
       "   timeElapsed     x     y     z    label\n",
       "0            0  9.38 -1.48  2.62  Sitting\n",
       "1            1  9.37 -1.47  2.64  Sitting\n",
       "2            2  9.39 -1.49  2.64  Sitting\n",
       "3            3  9.37 -1.49  2.62  Sitting\n",
       "4            4  9.38 -1.50  2.62  Sitting"
      ]
     },
     "execution_count": 4,
     "metadata": {},
     "output_type": "execute_result"
    }
   ],
   "source": [
    "df.head()"
   ]
  },
  {
   "cell_type": "code",
   "execution_count": 57,
   "metadata": {},
   "outputs": [
    {
     "data": {
      "text/plain": [
       "Walking       100033\n",
       "Sitting        91000\n",
       "Upstairs       66095\n",
       "Downstairs     42443\n",
       "Standing       42353\n",
       "Name: label, dtype: int64"
      ]
     },
     "execution_count": 57,
     "metadata": {},
     "output_type": "execute_result"
    }
   ],
   "source": [
    "df['label'].value_counts()"
   ]
  },
  {
   "cell_type": "code",
   "execution_count": 58,
   "metadata": {},
   "outputs": [],
   "source": [
    "from sklearn.preprocessing import LabelEncoder"
   ]
  },
  {
   "cell_type": "code",
   "execution_count": 5,
   "metadata": {},
   "outputs": [
    {
     "data": {
      "text/html": [
       "<div>\n",
       "<style scoped>\n",
       "    .dataframe tbody tr th:only-of-type {\n",
       "        vertical-align: middle;\n",
       "    }\n",
       "\n",
       "    .dataframe tbody tr th {\n",
       "        vertical-align: top;\n",
       "    }\n",
       "\n",
       "    .dataframe thead th {\n",
       "        text-align: right;\n",
       "    }\n",
       "</style>\n",
       "<table border=\"1\" class=\"dataframe\">\n",
       "  <thead>\n",
       "    <tr style=\"text-align: right;\">\n",
       "      <th></th>\n",
       "      <th>timeElapsed</th>\n",
       "      <th>x</th>\n",
       "      <th>y</th>\n",
       "      <th>z</th>\n",
       "      <th>label</th>\n",
       "      <th>ActivityLabel</th>\n",
       "    </tr>\n",
       "  </thead>\n",
       "  <tbody>\n",
       "    <tr>\n",
       "      <td>817802</td>\n",
       "      <td>817802</td>\n",
       "      <td>3.15</td>\n",
       "      <td>-9.50</td>\n",
       "      <td>0.23</td>\n",
       "      <td>Standing</td>\n",
       "      <td>2</td>\n",
       "    </tr>\n",
       "    <tr>\n",
       "      <td>817803</td>\n",
       "      <td>817803</td>\n",
       "      <td>3.42</td>\n",
       "      <td>-9.57</td>\n",
       "      <td>0.24</td>\n",
       "      <td>Standing</td>\n",
       "      <td>2</td>\n",
       "    </tr>\n",
       "    <tr>\n",
       "      <td>817804</td>\n",
       "      <td>817804</td>\n",
       "      <td>3.64</td>\n",
       "      <td>-9.22</td>\n",
       "      <td>0.23</td>\n",
       "      <td>Standing</td>\n",
       "      <td>2</td>\n",
       "    </tr>\n",
       "    <tr>\n",
       "      <td>817805</td>\n",
       "      <td>817805</td>\n",
       "      <td>3.39</td>\n",
       "      <td>-9.01</td>\n",
       "      <td>0.23</td>\n",
       "      <td>Standing</td>\n",
       "      <td>2</td>\n",
       "    </tr>\n",
       "    <tr>\n",
       "      <td>817806</td>\n",
       "      <td>817806</td>\n",
       "      <td>3.45</td>\n",
       "      <td>-9.09</td>\n",
       "      <td>0.21</td>\n",
       "      <td>Standing</td>\n",
       "      <td>2</td>\n",
       "    </tr>\n",
       "  </tbody>\n",
       "</table>\n",
       "</div>"
      ],
      "text/plain": [
       "        timeElapsed     x     y     z     label  ActivityLabel\n",
       "817802       817802  3.15 -9.50  0.23  Standing              2\n",
       "817803       817803  3.42 -9.57  0.24  Standing              2\n",
       "817804       817804  3.64 -9.22  0.23  Standing              2\n",
       "817805       817805  3.39 -9.01  0.23  Standing              2\n",
       "817806       817806  3.45 -9.09  0.21  Standing              2"
      ]
     },
     "execution_count": 5,
     "metadata": {},
     "output_type": "execute_result"
    }
   ],
   "source": [
    "label = LabelEncoder()\n",
    "df['ActivityLabel'] = label.fit_transform(df['label'])\n",
    "df.tail()"
   ]
  },
  {
   "cell_type": "code",
   "execution_count": 6,
   "metadata": {},
   "outputs": [
    {
     "data": {
      "text/plain": [
       "array(['Downstairs', 'Sitting', 'Standing', 'Upstairs', 'Walking'],\n",
       "      dtype=object)"
      ]
     },
     "execution_count": 6,
     "metadata": {},
     "output_type": "execute_result"
    }
   ],
   "source": [
    "label.classes_\n",
    "\n"
   ]
  },
  {
   "cell_type": "markdown",
   "metadata": {},
   "source": [
    "### Standardized data "
   ]
  },
  {
   "cell_type": "code",
   "execution_count": 7,
   "metadata": {},
   "outputs": [],
   "source": [
    "X = df[['x', 'y', 'z']]\n",
    "y = df['ActivityLabel']"
   ]
  },
  {
   "cell_type": "code",
   "execution_count": 8,
   "metadata": {},
   "outputs": [
    {
     "data": {
      "text/html": [
       "<div>\n",
       "<style scoped>\n",
       "    .dataframe tbody tr th:only-of-type {\n",
       "        vertical-align: middle;\n",
       "    }\n",
       "\n",
       "    .dataframe tbody tr th {\n",
       "        vertical-align: top;\n",
       "    }\n",
       "\n",
       "    .dataframe thead th {\n",
       "        text-align: right;\n",
       "    }\n",
       "</style>\n",
       "<table border=\"1\" class=\"dataframe\">\n",
       "  <thead>\n",
       "    <tr style=\"text-align: right;\">\n",
       "      <th></th>\n",
       "      <th>x</th>\n",
       "      <th>y</th>\n",
       "      <th>z</th>\n",
       "      <th>ActivityLabel</th>\n",
       "    </tr>\n",
       "  </thead>\n",
       "  <tbody>\n",
       "    <tr>\n",
       "      <td>0</td>\n",
       "      <td>1.482169</td>\n",
       "      <td>0.381171</td>\n",
       "      <td>0.462761</td>\n",
       "      <td>1</td>\n",
       "    </tr>\n",
       "    <tr>\n",
       "      <td>1</td>\n",
       "      <td>1.479849</td>\n",
       "      <td>0.382733</td>\n",
       "      <td>0.466161</td>\n",
       "      <td>1</td>\n",
       "    </tr>\n",
       "    <tr>\n",
       "      <td>2</td>\n",
       "      <td>1.484489</td>\n",
       "      <td>0.379608</td>\n",
       "      <td>0.466161</td>\n",
       "      <td>1</td>\n",
       "    </tr>\n",
       "    <tr>\n",
       "      <td>3</td>\n",
       "      <td>1.479849</td>\n",
       "      <td>0.379608</td>\n",
       "      <td>0.462761</td>\n",
       "      <td>1</td>\n",
       "    </tr>\n",
       "    <tr>\n",
       "      <td>4</td>\n",
       "      <td>1.482169</td>\n",
       "      <td>0.378045</td>\n",
       "      <td>0.462761</td>\n",
       "      <td>1</td>\n",
       "    </tr>\n",
       "    <tr>\n",
       "      <td>...</td>\n",
       "      <td>...</td>\n",
       "      <td>...</td>\n",
       "      <td>...</td>\n",
       "      <td>...</td>\n",
       "    </tr>\n",
       "    <tr>\n",
       "      <td>817802</td>\n",
       "      <td>0.036749</td>\n",
       "      <td>-0.872110</td>\n",
       "      <td>0.056478</td>\n",
       "      <td>2</td>\n",
       "    </tr>\n",
       "    <tr>\n",
       "      <td>817803</td>\n",
       "      <td>0.099392</td>\n",
       "      <td>-0.883049</td>\n",
       "      <td>0.058178</td>\n",
       "      <td>2</td>\n",
       "    </tr>\n",
       "    <tr>\n",
       "      <td>817804</td>\n",
       "      <td>0.150434</td>\n",
       "      <td>-0.828355</td>\n",
       "      <td>0.056478</td>\n",
       "      <td>2</td>\n",
       "    </tr>\n",
       "    <tr>\n",
       "      <td>817805</td>\n",
       "      <td>0.092431</td>\n",
       "      <td>-0.795538</td>\n",
       "      <td>0.056478</td>\n",
       "      <td>2</td>\n",
       "    </tr>\n",
       "    <tr>\n",
       "      <td>817806</td>\n",
       "      <td>0.106352</td>\n",
       "      <td>-0.808040</td>\n",
       "      <td>0.053078</td>\n",
       "      <td>2</td>\n",
       "    </tr>\n",
       "  </tbody>\n",
       "</table>\n",
       "<p>817807 rows × 4 columns</p>\n",
       "</div>"
      ],
      "text/plain": [
       "               x         y         z  ActivityLabel\n",
       "0       1.482169  0.381171  0.462761              1\n",
       "1       1.479849  0.382733  0.466161              1\n",
       "2       1.484489  0.379608  0.466161              1\n",
       "3       1.479849  0.379608  0.462761              1\n",
       "4       1.482169  0.378045  0.462761              1\n",
       "...          ...       ...       ...            ...\n",
       "817802  0.036749 -0.872110  0.056478              2\n",
       "817803  0.099392 -0.883049  0.058178              2\n",
       "817804  0.150434 -0.828355  0.056478              2\n",
       "817805  0.092431 -0.795538  0.056478              2\n",
       "817806  0.106352 -0.808040  0.053078              2\n",
       "\n",
       "[817807 rows x 4 columns]"
      ]
     },
     "execution_count": 8,
     "metadata": {},
     "output_type": "execute_result"
    }
   ],
   "source": [
    "scaler = StandardScaler()\n",
    "X = scaler.fit_transform(X)\n",
    "\n",
    "scaled_X = pd.DataFrame(data = X, columns = ['x', 'y', 'z'])\n",
    "scaled_X['ActivityLabel'] = y.values\n",
    "\n",
    "scaled_X"
   ]
  },
  {
   "cell_type": "markdown",
   "metadata": {},
   "source": [
    "### Frame Preparation "
   ]
  },
  {
   "cell_type": "code",
   "execution_count": 9,
   "metadata": {},
   "outputs": [],
   "source": [
    "Fs = 50\n",
    "frame_size = Fs*4 # 80\n",
    "hop_size = Fs*2 # 40"
   ]
  },
  {
   "cell_type": "code",
   "execution_count": 10,
   "metadata": {},
   "outputs": [],
   "source": [
    "def get_frames(df, frame_size, hop_size):\n",
    "    N_FEATURES = 3\n",
    "    frames = []\n",
    "    labels = []\n",
    "    for i in range(0, len(df) - frame_size, hop_size):\n",
    "        x = df['x'].values[i: i + frame_size]\n",
    "        y = df['y'].values[i: i + frame_size]\n",
    "        z = df['z'].values[i: i + frame_size]\n",
    "        # Retrieve the most often used label in this segment\n",
    "        label = stats.mode(df['ActivityLabel'][i: i + frame_size])[0][0]\n",
    "\n",
    "        frames.append([x, y, z])\n",
    "        labels.append(label)\n",
    "\n",
    "    # Bring the segments into a better shape\n",
    "    frames = np.asarray(frames).reshape(-1, frame_size, N_FEATURES)\n",
    "    labels = np.asarray(labels)\n",
    "\n",
    "    return frames, labels"
   ]
  },
  {
   "cell_type": "code",
   "execution_count": 11,
   "metadata": {},
   "outputs": [],
   "source": [
    "X, y = get_frames(scaled_X, frame_size, hop_size)"
   ]
  },
  {
   "cell_type": "code",
   "execution_count": 12,
   "metadata": {},
   "outputs": [],
   "source": [
    "X_train, X_test, y_train, y_test = train_test_split(X, y, test_size = 0.3, random_state = 0, stratify = y)"
   ]
  },
  {
   "cell_type": "code",
   "execution_count": 13,
   "metadata": {},
   "outputs": [],
   "source": [
    "X_train = X_train.reshape(X_train.shape[0], X_train.shape[1], 3, 1)\n",
    "X_test = X_test.reshape(X_test.shape[0], X_test.shape[1], 3, 1)"
   ]
  },
  {
   "cell_type": "code",
   "execution_count": 14,
   "metadata": {},
   "outputs": [],
   "source": [
    "model = Sequential()\n",
    "model.add(Conv2D(16, (2, 2), activation = 'relu', input_shape = X_train[0].shape))\n",
    "model.add(Dropout(0.1))\n",
    "\n",
    "model.add(Conv2D(32, (2, 2), activation='relu'))\n",
    "model.add(Dropout(0.2))\n",
    "\n",
    "model.add(Flatten())\n",
    "\n",
    "model.add(Dense(64, activation = 'relu'))\n",
    "model.add(Dropout(0.5))\n",
    "\n",
    "model.add(Dense(6, activation='softmax'))\n"
   ]
  },
  {
   "cell_type": "code",
   "execution_count": 15,
   "metadata": {},
   "outputs": [],
   "source": [
    "model.compile(optimizer=Adam(learning_rate = 0.001), loss = 'sparse_categorical_crossentropy', metrics = ['accuracy'])"
   ]
  },
  {
   "cell_type": "code",
   "execution_count": 16,
   "metadata": {},
   "outputs": [
    {
     "name": "stdout",
     "output_type": "stream",
     "text": [
      "Epoch 1/40\n",
      "179/179 [==============================] - 5s 17ms/step - loss: 0.7974 - accuracy: 0.6914 - val_loss: 0.5618 - val_accuracy: 0.7812\n",
      "Epoch 2/40\n",
      "179/179 [==============================] - 3s 16ms/step - loss: 0.6019 - accuracy: 0.7748 - val_loss: 0.5240 - val_accuracy: 0.7922\n",
      "Epoch 3/40\n",
      "179/179 [==============================] - 3s 16ms/step - loss: 0.5451 - accuracy: 0.7863 - val_loss: 0.4831 - val_accuracy: 0.8150\n",
      "Epoch 4/40\n",
      "179/179 [==============================] - 3s 16ms/step - loss: 0.5179 - accuracy: 0.8019 - val_loss: 0.4813 - val_accuracy: 0.8150\n",
      "Epoch 5/40\n",
      "179/179 [==============================] - 3s 16ms/step - loss: 0.4801 - accuracy: 0.8113 - val_loss: 0.4648 - val_accuracy: 0.8215\n",
      "Epoch 6/40\n",
      "179/179 [==============================] - 3s 16ms/step - loss: 0.4501 - accuracy: 0.8212 - val_loss: 0.4541 - val_accuracy: 0.8227\n",
      "Epoch 7/40\n",
      "179/179 [==============================] - 3s 18ms/step - loss: 0.4390 - accuracy: 0.8230 - val_loss: 0.4436 - val_accuracy: 0.8268\n",
      "Epoch 8/40\n",
      "179/179 [==============================] - 4s 20ms/step - loss: 0.4210 - accuracy: 0.8302 - val_loss: 0.4415 - val_accuracy: 0.8280\n",
      "Epoch 9/40\n",
      "179/179 [==============================] - 3s 17ms/step - loss: 0.3977 - accuracy: 0.8380 - val_loss: 0.4327 - val_accuracy: 0.8305\n",
      "Epoch 10/40\n",
      "179/179 [==============================] - 3s 17ms/step - loss: 0.3872 - accuracy: 0.8429 - val_loss: 0.4183 - val_accuracy: 0.840357 - ac\n",
      "Epoch 11/40\n",
      "179/179 [==============================] - 3s 17ms/step - loss: 0.3679 - accuracy: 0.8478 - val_loss: 0.4282 - val_accuracy: 0.8350\n",
      "Epoch 12/40\n",
      "179/179 [==============================] - 3s 18ms/step - loss: 0.3622 - accuracy: 0.8499 - val_loss: 0.4374 - val_accuracy: 0.8301\n",
      "Epoch 13/40\n",
      "179/179 [==============================] - 3s 17ms/step - loss: 0.3531 - accuracy: 0.8530 - val_loss: 0.4313 - val_accuracy: 0.8325\n",
      "Epoch 14/40\n",
      "179/179 [==============================] - 3s 19ms/step - loss: 0.3295 - accuracy: 0.8604 - val_loss: 0.4294 - val_accuracy: 0.8362\n",
      "Epoch 15/40\n",
      "179/179 [==============================] - 3s 18ms/step - loss: 0.3218 - accuracy: 0.8660 - val_loss: 0.4237 - val_accuracy: 0.8427\n",
      "Epoch 16/40\n",
      "179/179 [==============================] - 3s 19ms/step - loss: 0.3126 - accuracy: 0.8663 - val_loss: 0.4294 - val_accuracy: 0.8325\n",
      "Epoch 17/40\n",
      "179/179 [==============================] - 3s 19ms/step - loss: 0.3089 - accuracy: 0.8703 - val_loss: 0.4123 - val_accuracy: 0.8403\n",
      "Epoch 18/40\n",
      "179/179 [==============================] - 3s 18ms/step - loss: 0.2980 - accuracy: 0.8765 - val_loss: 0.4364 - val_accuracy: 0.8346\n",
      "Epoch 19/40\n",
      "179/179 [==============================] - 3s 19ms/step - loss: 0.2943 - accuracy: 0.8679 - val_loss: 0.4112 - val_accuracy: 0.8382\n",
      "Epoch 20/40\n",
      "179/179 [==============================] - 3s 19ms/step - loss: 0.2836 - accuracy: 0.8751 - val_loss: 0.4310 - val_accuracy: 0.8382\n",
      "Epoch 21/40\n",
      "179/179 [==============================] - 3s 19ms/step - loss: 0.2803 - accuracy: 0.8777 - val_loss: 0.4527 - val_accuracy: 0.8333\n",
      "Epoch 22/40\n",
      "179/179 [==============================] - 3s 19ms/step - loss: 0.2759 - accuracy: 0.8770 - val_loss: 0.4292 - val_accuracy: 0.8390\n",
      "Epoch 23/40\n",
      "179/179 [==============================] - 4s 20ms/step - loss: 0.2634 - accuracy: 0.8814 - val_loss: 0.4403 - val_accuracy: 0.8431\n",
      "Epoch 24/40\n",
      "179/179 [==============================] - 3s 17ms/step - loss: 0.2653 - accuracy: 0.8826 - val_loss: 0.4290 - val_accuracy: 0.8447\n",
      "Epoch 25/40\n",
      "179/179 [==============================] - 3s 17ms/step - loss: 0.2637 - accuracy: 0.8908 - val_loss: 0.4511 - val_accuracy: 0.8378\n",
      "Epoch 26/40\n",
      "179/179 [==============================] - 3s 17ms/step - loss: 0.2510 - accuracy: 0.8896 - val_loss: 0.4658 - val_accuracy: 0.8329\n",
      "Epoch 27/40\n",
      "179/179 [==============================] - 3s 17ms/step - loss: 0.2502 - accuracy: 0.8925 - val_loss: 0.4396 - val_accuracy: 0.8407\n",
      "Epoch 28/40\n",
      "179/179 [==============================] - 3s 18ms/step - loss: 0.2577 - accuracy: 0.8828 - val_loss: 0.4514 - val_accuracy: 0.8464\n",
      "Epoch 29/40\n",
      "179/179 [==============================] - 3s 18ms/step - loss: 0.2437 - accuracy: 0.8910 - val_loss: 0.4970 - val_accuracy: 0.8350\n",
      "Epoch 30/40\n",
      "179/179 [==============================] - 3s 18ms/step - loss: 0.2432 - accuracy: 0.8960 - val_loss: 0.4595 - val_accuracy: 0.8386\n",
      "Epoch 31/40\n",
      "179/179 [==============================] - 3s 18ms/step - loss: 0.2304 - accuracy: 0.9001 - val_loss: 0.4655 - val_accuracy: 0.8374\n",
      "Epoch 32/40\n",
      "179/179 [==============================] - 3s 17ms/step - loss: 0.2449 - accuracy: 0.8938 - val_loss: 0.4692 - val_accuracy: 0.8447\n",
      "Epoch 33/40\n",
      "179/179 [==============================] - 3s 18ms/step - loss: 0.2336 - accuracy: 0.9013 - val_loss: 0.4623 - val_accuracy: 0.8464\n",
      "Epoch 34/40\n",
      "179/179 [==============================] - 3s 18ms/step - loss: 0.2222 - accuracy: 0.9039 - val_loss: 0.4913 - val_accuracy: 0.8484\n",
      "Epoch 35/40\n",
      "179/179 [==============================] - 3s 18ms/step - loss: 0.2201 - accuracy: 0.9021 - val_loss: 0.5418 - val_accuracy: 0.8329\n",
      "Epoch 36/40\n",
      "179/179 [==============================] - 3s 20ms/step - loss: 0.2112 - accuracy: 0.9109 - val_loss: 0.5867 - val_accuracy: 0.8321\n",
      "Epoch 37/40\n",
      "179/179 [==============================] - 3s 18ms/step - loss: 0.2204 - accuracy: 0.9056 - val_loss: 0.5333 - val_accuracy: 0.8374\n",
      "Epoch 38/40\n",
      "179/179 [==============================] - 3s 18ms/step - loss: 0.2032 - accuracy: 0.9135 - val_loss: 0.5314 - val_accuracy: 0.8394\n",
      "Epoch 39/40\n",
      "179/179 [==============================] - 3s 18ms/step - loss: 0.2089 - accuracy: 0.9097 - val_loss: 0.5197 - val_accuracy: 0.8452\n",
      "Epoch 40/40\n",
      "179/179 [==============================] - 3s 18ms/step - loss: 0.2091 - accuracy: 0.9069 - val_loss: 0.5073 - val_accuracy: 0.8476\n"
     ]
    }
   ],
   "source": [
    "history = model.fit(X_train, y_train, epochs = 40, validation_data= (X_test, y_test), verbose=1)"
   ]
  },
  {
   "cell_type": "code",
   "execution_count": 17,
   "metadata": {},
   "outputs": [],
   "source": [
    "from mlxtend.plotting import plot_confusion_matrix\n",
    "from sklearn.metrics import confusion_matrix"
   ]
  },
  {
   "cell_type": "code",
   "execution_count": 18,
   "metadata": {},
   "outputs": [],
   "source": [
    "pred = model.predict(X_test, batch_size = 32)\n",
    "pred = np.argmax(pred, axis=1)"
   ]
  },
  {
   "cell_type": "code",
   "execution_count": 19,
   "metadata": {},
   "outputs": [
    {
     "data": {
      "text/plain": [
       "(<Figure size 504x504 with 1 Axes>,\n",
       " <matplotlib.axes._subplots.AxesSubplot at 0x120be265608>)"
      ]
     },
     "execution_count": 19,
     "metadata": {},
     "output_type": "execute_result"
    },
    {
     "data": {
      "image/png": "[encoded data removed]",
      "text/plain": [
       "<Figure size 504x504 with 1 Axes>"
      ]
     },
     "metadata": {
      "needs_background": "light"
     },
     "output_type": "display_data"
    }
   ],
   "source": [
    "import seaborn as sns\n",
    "mat = confusion_matrix(y_test, pred)\n",
    "plot_confusion_matrix(conf_mat=mat, class_names=label.classes_, show_normed=True, figsize=(7,7))"
   ]
  },
  {
   "cell_type": "code",
   "execution_count": 21,
   "metadata": {},
   "outputs": [
    {
     "name": "stdout",
     "output_type": "stream",
     "text": [
      "Confusion matrix is :\n",
      "  [[159   2   0 106  27]\n",
      " [  8 593  13  24   2]\n",
      " [  6   0 333  10   0]\n",
      " [ 68   1   6 347  28]\n",
      " [ 15   0  10  48 648]]\n"
     ]
    },
    {
     "ename": "NameError",
     "evalue": "name 'z' is not defined",
     "output_type": "error",
     "traceback": [
      "\u001b[1;31m---------------------------------------------------------------------------\u001b[0m",
      "\u001b[1;31mNameError\u001b[0m                                 Traceback (most recent call last)",
      "\u001b[1;32m<ipython-input-21-d3fc3ed95399>\u001b[0m in \u001b[0;36m<module>\u001b[1;34m\u001b[0m\n\u001b[0;32m     14\u001b[0m \u001b[0mplt\u001b[0m\u001b[1;33m.\u001b[0m\u001b[0mxticks\u001b[0m\u001b[1;33m(\u001b[0m\u001b[0mfontsize\u001b[0m\u001b[1;33m=\u001b[0m\u001b[1;36m10\u001b[0m\u001b[1;33m)\u001b[0m\u001b[1;33m\u001b[0m\u001b[1;33m\u001b[0m\u001b[0m\n\u001b[0;32m     15\u001b[0m \u001b[0mplt\u001b[0m\u001b[1;33m.\u001b[0m\u001b[0myticks\u001b[0m\u001b[1;33m(\u001b[0m\u001b[0mfontsize\u001b[0m\u001b[1;33m=\u001b[0m\u001b[1;36m10\u001b[0m\u001b[1;33m,\u001b[0m\u001b[0mrotation\u001b[0m\u001b[1;33m=\u001b[0m\u001b[1;36m0\u001b[0m\u001b[1;33m)\u001b[0m\u001b[1;33m\u001b[0m\u001b[1;33m\u001b[0m\u001b[0m\n\u001b[1;32m---> 16\u001b[1;33m \u001b[0max\u001b[0m\u001b[1;33m.\u001b[0m\u001b[0mxaxis\u001b[0m\u001b[1;33m.\u001b[0m\u001b[0mset_ticklabels\u001b[0m\u001b[1;33m(\u001b[0m\u001b[0mz\u001b[0m\u001b[1;33m)\u001b[0m\u001b[1;33m;\u001b[0m\u001b[1;33m\u001b[0m\u001b[1;33m\u001b[0m\u001b[0m\n\u001b[0m\u001b[0;32m     17\u001b[0m \u001b[0max\u001b[0m\u001b[1;33m.\u001b[0m\u001b[0myaxis\u001b[0m\u001b[1;33m.\u001b[0m\u001b[0mset_ticklabels\u001b[0m\u001b[1;33m(\u001b[0m\u001b[0mz\u001b[0m\u001b[1;33m)\u001b[0m\u001b[1;33m;\u001b[0m\u001b[1;33m\u001b[0m\u001b[1;33m\u001b[0m\u001b[0m\n\u001b[0;32m     18\u001b[0m \u001b[0mplt\u001b[0m\u001b[1;33m.\u001b[0m\u001b[0msavefig\u001b[0m\u001b[1;33m(\u001b[0m\u001b[1;34m'DT.png'\u001b[0m\u001b[1;33m)\u001b[0m\u001b[1;33m\u001b[0m\u001b[1;33m\u001b[0m\u001b[0m\n",
      "\u001b[1;31mNameError\u001b[0m: name 'z' is not defined"
     ]
    },
    {
     "data": {
      "image/png": "[encoded data removed]",
      "text/plain": [
       "<Figure size 720x432 with 2 Axes>"
      ]
     },
     "metadata": {
      "needs_background": "light"
     },
     "output_type": "display_data"
    }
   ],
   "source": [
    "import matplotlib.pyplot as plt\n",
    "z=label.inverse_transform(np.unique(y_labeled))\n",
    "\n",
    "cm = confusion_matrix(y_test, pred)\n",
    "print(\"Confusion matrix is :\\n \", cm)\n",
    "annot_kws = {\"ha\": 'left',\"va\": 'center','size': 10}\n",
    "plt.figure(figsize=(10,6))\n",
    "ax= plt.subplot()\n",
    "sns.heatmap(cm, annot=True, fmt='g', cmap = 'Blues',annot_kws=annot_kws, ax=ax); \n",
    "bottom, top = ax.get_ylim()\n",
    "ax.set_ylim(bottom + 0.5, top - 0.5)\n",
    "# labels, title and ticks\n",
    "ax.set_xlabel('Predicted labels',fontsize=16)\n",
    "ax.set_ylabel('True labels',fontsize=16); \n",
    "#ax.set_title('DecisionTree Confusion Matrix',fontsize=16); \n",
    "plt.xticks(fontsize=10)\n",
    "plt.yticks(fontsize=10,rotation=0)\n",
    "ax.xaxis.set_ticklabels(z);\n",
    "ax.yaxis.set_ticklabels(z);\n",
    "plt.savefig('DT.png')"
   ]
  },
  {
   "cell_type": "code",
   "execution_count": 53,
   "metadata": {},
   "outputs": [
    {
     "name": "stdout",
     "output_type": "stream",
     "text": [
      "test loss, test acc: [0.1390361338853836, 1.0]\n"
     ]
    }
   ],
   "source": [
    "score = model.evaluate(X_test, pred, verbose=0)\n",
    "print(\"test loss, test acc:\", score)"
   ]
  },
  {
   "cell_type": "code",
   "execution_count": 54,
   "metadata": {},
   "outputs": [
    {
     "name": "stdout",
     "output_type": "stream",
     "text": [
      "Accuracy ---------> 0.84\n"
     ]
    }
   ],
   "source": [
    "from sklearn.metrics import  accuracy_score\n",
    "\n",
    "print('Accuracy --------->',round(accuracy_score(y_test, pred),2))"
   ]
  },
  {
   "cell_type": "markdown",
   "metadata": {},
   "source": [
    "### Accuracy of independet data\n"
   ]
  },
  {
   "cell_type": "code",
   "execution_count": 66,
   "metadata": {},
   "outputs": [],
   "source": [
    "X = X.reshape(X.shape[0], X.shape[1], 3, 1)"
   ]
  },
  {
   "cell_type": "code",
   "execution_count": 67,
   "metadata": {},
   "outputs": [],
   "source": [
    "pred = model.predict(X, batch_size = 32)\n",
    "pred = np.argmax(pred, axis=1)"
   ]
  },
  {
   "cell_type": "code",
   "execution_count": 68,
   "metadata": {},
   "outputs": [
    {
     "data": {
      "text/plain": [
       "(<Figure size 504x504 with 1 Axes>,\n",
       " <matplotlib.axes._subplots.AxesSubplot at 0x1850f765848>)"
      ]
     },
     "execution_count": 68,
     "metadata": {},
     "output_type": "execute_result"
    },
    {
     "data": {
      "image/png": "[encoded data removed]",
      "text/plain": [
       "<Figure size 504x504 with 1 Axes>"
      ]
     },
     "metadata": {
      "needs_background": "dark"
     },
     "output_type": "display_data"
    }
   ],
   "source": [
    "mat = confusion_matrix(y, pred)\n",
    "plot_confusion_matrix(conf_mat=mat, class_names=label.classes_, show_normed=True, figsize=(7,7))"
   ]
  },
  {
   "cell_type": "code",
   "execution_count": 70,
   "metadata": {},
   "outputs": [
    {
     "name": "stdout",
     "output_type": "stream",
     "text": [
      "Accuracy dependent ---------> 0.68\n"
     ]
    }
   ],
   "source": [
    "from sklearn.metrics import  accuracy_score\n",
    "\n",
    "print('Accuracy dependent --------->',round(accuracy_score(y, pred),2))"
   ]
  },
  {
   "cell_type": "code",
   "execution_count": null,
   "metadata": {},
   "outputs": [],
   "source": []
  }
 ],
 "metadata": {
  "kernelspec": {
   "display_name": "Python 3",
   "language": "python",
   "name": "python3"
  },
  "language_info": {
   "codemirror_mode": {
    "name": "ipython",
    "version": 3
   },
   "file_extension": ".py",
   "mimetype": "text/x-python",
   "name": "python",
   "nbconvert_exporter": "python",
   "pygments_lexer": "ipython3",
   "version": "3.7.4"
  }
 },
 "nbformat": 4,
 "nbformat_minor": 4
}
