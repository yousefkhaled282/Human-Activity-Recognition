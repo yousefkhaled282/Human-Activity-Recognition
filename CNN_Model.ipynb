{
 "cells": [
  {
   "cell_type": "code",
   "execution_count": 1,
   "metadata": {},
   "outputs": [],
   "source": [
    "import pandas as pd\n",
    "import numpy as np\n",
    "from sklearn.model_selection import train_test_split\n",
    "from sklearn.preprocessing import StandardScaler, LabelEncoder\n",
    "from scipy import stats\n",
    "from jupyterthemes import jtplot\n",
    "\n",
    "jtplot.style(theme='monokai', context='notebook', ticks=True, grid=False)"
   ]
  },
  {
   "cell_type": "code",
   "execution_count": 2,
   "metadata": {},
   "outputs": [
    {
     "name": "stdout",
     "output_type": "stream",
     "text": [
      "2.6.0\n"
     ]
    }
   ],
   "source": [
    "import tensorflow as tf\n",
    "from tensorflow.keras import Sequential\n",
    "from tensorflow.keras.layers import Flatten, Dense, Dropout, BatchNormalization\n",
    "from tensorflow.keras.layers import Conv2D, MaxPool2D\n",
    "from tensorflow.keras.optimizers import Adam\n",
    "print(tf.__version__)"
   ]
  },
  {
   "cell_type": "code",
   "execution_count": 44,
   "metadata": {},
   "outputs": [],
   "source": [
    "df=pd.read_excel('appdata.xlsx')"
   ]
  },
  {
   "cell_type": "code",
   "execution_count": 25,
   "metadata": {},
   "outputs": [],
   "source": [
    "# df=pd.read_csv('test_appdata.csv')"
   ]
  },
  {
   "cell_type": "code",
   "execution_count": 45,
   "metadata": {},
   "outputs": [
    {
     "data": {
      "text/html": [
       "<div>\n",
       "<style scoped>\n",
       "    .dataframe tbody tr th:only-of-type {\n",
       "        vertical-align: middle;\n",
       "    }\n",
       "\n",
       "    .dataframe tbody tr th {\n",
       "        vertical-align: top;\n",
       "    }\n",
       "\n",
       "    .dataframe thead th {\n",
       "        text-align: right;\n",
       "    }\n",
       "</style>\n",
       "<table border=\"1\" class=\"dataframe\">\n",
       "  <thead>\n",
       "    <tr style=\"text-align: right;\">\n",
       "      <th></th>\n",
       "      <th>timeElapsed</th>\n",
       "      <th>x</th>\n",
       "      <th>y</th>\n",
       "      <th>z</th>\n",
       "      <th>label</th>\n",
       "    </tr>\n",
       "  </thead>\n",
       "  <tbody>\n",
       "    <tr>\n",
       "      <th>0</th>\n",
       "      <td>0</td>\n",
       "      <td>9.38</td>\n",
       "      <td>-1.48</td>\n",
       "      <td>2.62</td>\n",
       "      <td>Sitting</td>\n",
       "    </tr>\n",
       "    <tr>\n",
       "      <th>1</th>\n",
       "      <td>1</td>\n",
       "      <td>9.37</td>\n",
       "      <td>-1.47</td>\n",
       "      <td>2.64</td>\n",
       "      <td>Sitting</td>\n",
       "    </tr>\n",
       "    <tr>\n",
       "      <th>2</th>\n",
       "      <td>2</td>\n",
       "      <td>9.39</td>\n",
       "      <td>-1.49</td>\n",
       "      <td>2.64</td>\n",
       "      <td>Sitting</td>\n",
       "    </tr>\n",
       "    <tr>\n",
       "      <th>3</th>\n",
       "      <td>3</td>\n",
       "      <td>9.37</td>\n",
       "      <td>-1.49</td>\n",
       "      <td>2.62</td>\n",
       "      <td>Sitting</td>\n",
       "    </tr>\n",
       "    <tr>\n",
       "      <th>4</th>\n",
       "      <td>4</td>\n",
       "      <td>9.38</td>\n",
       "      <td>-1.50</td>\n",
       "      <td>2.62</td>\n",
       "      <td>Sitting</td>\n",
       "    </tr>\n",
       "  </tbody>\n",
       "</table>\n",
       "</div>"
      ],
      "text/plain": [
       "   timeElapsed     x     y     z    label\n",
       "0            0  9.38 -1.48  2.62  Sitting\n",
       "1            1  9.37 -1.47  2.64  Sitting\n",
       "2            2  9.39 -1.49  2.64  Sitting\n",
       "3            3  9.37 -1.49  2.62  Sitting\n",
       "4            4  9.38 -1.50  2.62  Sitting"
      ]
     },
     "execution_count": 45,
     "metadata": {},
     "output_type": "execute_result"
    }
   ],
   "source": [
    "df.head()"
   ]
  },
  {
   "cell_type": "code",
   "execution_count": 46,
   "metadata": {},
   "outputs": [
    {
     "data": {
      "text/plain": [
       "Walking       240200\n",
       "Sitting       155436\n",
       "Standing       98779\n",
       "Upstairs       93248\n",
       "Downstairs     62030\n",
       "Name: label, dtype: int64"
      ]
     },
     "execution_count": 46,
     "metadata": {},
     "output_type": "execute_result"
    }
   ],
   "source": [
    "df['label'].value_counts()"
   ]
  },
  {
   "cell_type": "code",
   "execution_count": 47,
   "metadata": {},
   "outputs": [],
   "source": [
    "from sklearn.preprocessing import LabelEncoder"
   ]
  },
  {
   "cell_type": "code",
   "execution_count": 48,
   "metadata": {},
   "outputs": [
    {
     "data": {
      "text/html": [
       "<div>\n",
       "<style scoped>\n",
       "    .dataframe tbody tr th:only-of-type {\n",
       "        vertical-align: middle;\n",
       "    }\n",
       "\n",
       "    .dataframe tbody tr th {\n",
       "        vertical-align: top;\n",
       "    }\n",
       "\n",
       "    .dataframe thead th {\n",
       "        text-align: right;\n",
       "    }\n",
       "</style>\n",
       "<table border=\"1\" class=\"dataframe\">\n",
       "  <thead>\n",
       "    <tr style=\"text-align: right;\">\n",
       "      <th></th>\n",
       "      <th>timeElapsed</th>\n",
       "      <th>x</th>\n",
       "      <th>y</th>\n",
       "      <th>z</th>\n",
       "      <th>label</th>\n",
       "      <th>ActivityLabel</th>\n",
       "    </tr>\n",
       "  </thead>\n",
       "  <tbody>\n",
       "    <tr>\n",
       "      <th>649688</th>\n",
       "      <td>649688</td>\n",
       "      <td>3.30</td>\n",
       "      <td>-6.17</td>\n",
       "      <td>6.59</td>\n",
       "      <td>Downstairs</td>\n",
       "      <td>0</td>\n",
       "    </tr>\n",
       "    <tr>\n",
       "      <th>649689</th>\n",
       "      <td>649689</td>\n",
       "      <td>3.46</td>\n",
       "      <td>-5.95</td>\n",
       "      <td>6.61</td>\n",
       "      <td>Downstairs</td>\n",
       "      <td>0</td>\n",
       "    </tr>\n",
       "    <tr>\n",
       "      <th>649690</th>\n",
       "      <td>649690</td>\n",
       "      <td>3.42</td>\n",
       "      <td>-6.07</td>\n",
       "      <td>6.86</td>\n",
       "      <td>Downstairs</td>\n",
       "      <td>0</td>\n",
       "    </tr>\n",
       "    <tr>\n",
       "      <th>649691</th>\n",
       "      <td>649691</td>\n",
       "      <td>3.44</td>\n",
       "      <td>-6.13</td>\n",
       "      <td>7.10</td>\n",
       "      <td>Downstairs</td>\n",
       "      <td>0</td>\n",
       "    </tr>\n",
       "    <tr>\n",
       "      <th>649692</th>\n",
       "      <td>649692</td>\n",
       "      <td>3.43</td>\n",
       "      <td>-6.01</td>\n",
       "      <td>7.12</td>\n",
       "      <td>Downstairs</td>\n",
       "      <td>0</td>\n",
       "    </tr>\n",
       "  </tbody>\n",
       "</table>\n",
       "</div>"
      ],
      "text/plain": [
       "        timeElapsed     x     y     z       label  ActivityLabel\n",
       "649688       649688  3.30 -6.17  6.59  Downstairs              0\n",
       "649689       649689  3.46 -5.95  6.61  Downstairs              0\n",
       "649690       649690  3.42 -6.07  6.86  Downstairs              0\n",
       "649691       649691  3.44 -6.13  7.10  Downstairs              0\n",
       "649692       649692  3.43 -6.01  7.12  Downstairs              0"
      ]
     },
     "execution_count": 48,
     "metadata": {},
     "output_type": "execute_result"
    }
   ],
   "source": [
    "label = LabelEncoder()\n",
    "df['ActivityLabel'] = label.fit_transform(df['label'])\n",
    "df.tail()"
   ]
  },
  {
   "cell_type": "code",
   "execution_count": 49,
   "metadata": {},
   "outputs": [
    {
     "data": {
      "text/plain": [
       "array(['Downstairs', 'Sitting', 'Standing', 'Upstairs', 'Walking'],\n",
       "      dtype=object)"
      ]
     },
     "execution_count": 49,
     "metadata": {},
     "output_type": "execute_result"
    }
   ],
   "source": [
    "label.classes_\n",
    "\n"
   ]
  },
  {
   "cell_type": "markdown",
   "metadata": {},
   "source": [
    "### Standardized data "
   ]
  },
  {
   "cell_type": "code",
   "execution_count": 50,
   "metadata": {},
   "outputs": [],
   "source": [
    "X = df[['x', 'y', 'z']]\n",
    "y = df['ActivityLabel']"
   ]
  },
  {
   "cell_type": "code",
   "execution_count": 51,
   "metadata": {},
   "outputs": [
    {
     "data": {
      "text/html": [
       "<div>\n",
       "<style scoped>\n",
       "    .dataframe tbody tr th:only-of-type {\n",
       "        vertical-align: middle;\n",
       "    }\n",
       "\n",
       "    .dataframe tbody tr th {\n",
       "        vertical-align: top;\n",
       "    }\n",
       "\n",
       "    .dataframe thead th {\n",
       "        text-align: right;\n",
       "    }\n",
       "</style>\n",
       "<table border=\"1\" class=\"dataframe\">\n",
       "  <thead>\n",
       "    <tr style=\"text-align: right;\">\n",
       "      <th></th>\n",
       "      <th>x</th>\n",
       "      <th>y</th>\n",
       "      <th>z</th>\n",
       "      <th>ActivityLabel</th>\n",
       "    </tr>\n",
       "  </thead>\n",
       "  <tbody>\n",
       "    <tr>\n",
       "      <th>0</th>\n",
       "      <td>1.482765</td>\n",
       "      <td>0.453011</td>\n",
       "      <td>0.512788</td>\n",
       "      <td>1</td>\n",
       "    </tr>\n",
       "    <tr>\n",
       "      <th>1</th>\n",
       "      <td>1.480515</td>\n",
       "      <td>0.454577</td>\n",
       "      <td>0.516259</td>\n",
       "      <td>1</td>\n",
       "    </tr>\n",
       "    <tr>\n",
       "      <th>2</th>\n",
       "      <td>1.485015</td>\n",
       "      <td>0.451446</td>\n",
       "      <td>0.516259</td>\n",
       "      <td>1</td>\n",
       "    </tr>\n",
       "    <tr>\n",
       "      <th>3</th>\n",
       "      <td>1.480515</td>\n",
       "      <td>0.451446</td>\n",
       "      <td>0.512788</td>\n",
       "      <td>1</td>\n",
       "    </tr>\n",
       "    <tr>\n",
       "      <th>4</th>\n",
       "      <td>1.482765</td>\n",
       "      <td>0.449880</td>\n",
       "      <td>0.512788</td>\n",
       "      <td>1</td>\n",
       "    </tr>\n",
       "    <tr>\n",
       "      <th>...</th>\n",
       "      <td>...</td>\n",
       "      <td>...</td>\n",
       "      <td>...</td>\n",
       "      <td>...</td>\n",
       "    </tr>\n",
       "    <tr>\n",
       "      <th>649688</th>\n",
       "      <td>0.114922</td>\n",
       "      <td>-0.281319</td>\n",
       "      <td>1.201840</td>\n",
       "      <td>0</td>\n",
       "    </tr>\n",
       "    <tr>\n",
       "      <th>649689</th>\n",
       "      <td>0.150917</td>\n",
       "      <td>-0.246873</td>\n",
       "      <td>1.205311</td>\n",
       "      <td>0</td>\n",
       "    </tr>\n",
       "    <tr>\n",
       "      <th>649690</th>\n",
       "      <td>0.141918</td>\n",
       "      <td>-0.265662</td>\n",
       "      <td>1.248702</td>\n",
       "      <td>0</td>\n",
       "    </tr>\n",
       "    <tr>\n",
       "      <th>649691</th>\n",
       "      <td>0.146418</td>\n",
       "      <td>-0.275056</td>\n",
       "      <td>1.290358</td>\n",
       "      <td>0</td>\n",
       "    </tr>\n",
       "    <tr>\n",
       "      <th>649692</th>\n",
       "      <td>0.144168</td>\n",
       "      <td>-0.256268</td>\n",
       "      <td>1.293829</td>\n",
       "      <td>0</td>\n",
       "    </tr>\n",
       "  </tbody>\n",
       "</table>\n",
       "<p>649693 rows × 4 columns</p>\n",
       "</div>"
      ],
      "text/plain": [
       "               x         y         z  ActivityLabel\n",
       "0       1.482765  0.453011  0.512788              1\n",
       "1       1.480515  0.454577  0.516259              1\n",
       "2       1.485015  0.451446  0.516259              1\n",
       "3       1.480515  0.451446  0.512788              1\n",
       "4       1.482765  0.449880  0.512788              1\n",
       "...          ...       ...       ...            ...\n",
       "649688  0.114922 -0.281319  1.201840              0\n",
       "649689  0.150917 -0.246873  1.205311              0\n",
       "649690  0.141918 -0.265662  1.248702              0\n",
       "649691  0.146418 -0.275056  1.290358              0\n",
       "649692  0.144168 -0.256268  1.293829              0\n",
       "\n",
       "[649693 rows x 4 columns]"
      ]
     },
     "execution_count": 51,
     "metadata": {},
     "output_type": "execute_result"
    }
   ],
   "source": [
    "scaler = StandardScaler()\n",
    "X = scaler.fit_transform(X)\n",
    "\n",
    "scaled_X = pd.DataFrame(data = X, columns = ['x', 'y', 'z'])\n",
    "scaled_X['ActivityLabel'] = y.values\n",
    "\n",
    "scaled_X"
   ]
  },
  {
   "cell_type": "markdown",
   "metadata": {},
   "source": [
    "### Frame Preparation "
   ]
  },
  {
   "cell_type": "code",
   "execution_count": 52,
   "metadata": {},
   "outputs": [],
   "source": [
    "Fs = 50\n",
    "frame_size = Fs*4 # 80\n",
    "hop_size = Fs*2 # 40"
   ]
  },
  {
   "cell_type": "code",
   "execution_count": 53,
   "metadata": {},
   "outputs": [],
   "source": [
    "def get_frames(df, frame_size, hop_size):\n",
    "    N_FEATURES = 3\n",
    "    frames = []\n",
    "    labels = []\n",
    "    for i in range(0, len(df) - frame_size, hop_size):\n",
    "        x = df['x'].values[i: i + frame_size]\n",
    "        y = df['y'].values[i: i + frame_size]\n",
    "        z = df['z'].values[i: i + frame_size]\n",
    "        # Retrieve the most often used label in this segment\n",
    "        label = stats.mode(df['ActivityLabel'][i: i + frame_size])[0][0]\n",
    "\n",
    "        frames.append([x, y, z])\n",
    "        labels.append(label)\n",
    "\n",
    "    # Bring the segments into a better shape\n",
    "    frames = np.asarray(frames).reshape(-1, frame_size, N_FEATURES)\n",
    "    labels = np.asarray(labels)\n",
    "\n",
    "    return frames, labels"
   ]
  },
  {
   "cell_type": "code",
   "execution_count": 54,
   "metadata": {},
   "outputs": [],
   "source": [
    "X, y = get_frames(scaled_X, frame_size, hop_size)"
   ]
  },
  {
   "cell_type": "code",
   "execution_count": 55,
   "metadata": {},
   "outputs": [],
   "source": [
    "X_train, X_test, y_train, y_test = train_test_split(X, y, test_size = 0.3, random_state = 0, stratify = y)"
   ]
  },
  {
   "cell_type": "code",
   "execution_count": 57,
   "metadata": {},
   "outputs": [],
   "source": [
    "X_train = X_train.reshape(X_train.shape[0], X_train.shape[1], 3, 1)\n",
    "X_test = X_test.reshape(X_test.shape[0], X_test.shape[1], 3, 1)"
   ]
  },
  {
   "cell_type": "code",
   "execution_count": 58,
   "metadata": {},
   "outputs": [],
   "source": [
    "model = Sequential()\n",
    "model.add(Conv2D(16, (2, 2), activation = 'relu', input_shape = X_train[0].shape))\n",
    "model.add(Dropout(0.1))\n",
    "\n",
    "model.add(Conv2D(32, (2, 2), activation='relu'))\n",
    "model.add(Dropout(0.2))\n",
    "\n",
    "model.add(Flatten())\n",
    "\n",
    "model.add(Dense(64, activation = 'relu'))\n",
    "model.add(Dropout(0.5))\n",
    "\n",
    "model.add(Dense(6, activation='softmax'))\n"
   ]
  },
  {
   "cell_type": "code",
   "execution_count": 59,
   "metadata": {},
   "outputs": [],
   "source": [
    "model.compile(optimizer=Adam(learning_rate = 0.001), loss = 'sparse_categorical_crossentropy', metrics = ['accuracy'])"
   ]
  },
  {
   "cell_type": "code",
   "execution_count": 60,
   "metadata": {},
   "outputs": [
    {
     "name": "stdout",
     "output_type": "stream",
     "text": [
      "Epoch 1/40\n",
      "143/143 [==============================] - 2s 12ms/step - loss: 0.7795 - accuracy: 0.7132 - val_loss: 0.4881 - val_accuracy: 0.8061\n",
      "Epoch 2/40\n",
      "143/143 [==============================] - 2s 11ms/step - loss: 0.5514 - accuracy: 0.7860 - val_loss: 0.4794 - val_accuracy: 0.8235\n",
      "Epoch 3/40\n",
      "143/143 [==============================] - 2s 11ms/step - loss: 0.4962 - accuracy: 0.8014 - val_loss: 0.4116 - val_accuracy: 0.8261\n",
      "Epoch 4/40\n",
      "143/143 [==============================] - 2s 11ms/step - loss: 0.4420 - accuracy: 0.8242 - val_loss: 0.3954 - val_accuracy: 0.8240\n",
      "Epoch 5/40\n",
      "143/143 [==============================] - 2s 11ms/step - loss: 0.4244 - accuracy: 0.8251 - val_loss: 0.4043 - val_accuracy: 0.8307\n",
      "Epoch 6/40\n",
      "143/143 [==============================] - 2s 11ms/step - loss: 0.4094 - accuracy: 0.8366 - val_loss: 0.3890 - val_accuracy: 0.8338\n",
      "Epoch 7/40\n",
      "143/143 [==============================] - 2s 12ms/step - loss: 0.3830 - accuracy: 0.8405 - val_loss: 0.3681 - val_accuracy: 0.8399\n",
      "Epoch 8/40\n",
      "143/143 [==============================] - 2s 13ms/step - loss: 0.3666 - accuracy: 0.8465 - val_loss: 0.3662 - val_accuracy: 0.8409\n",
      "Epoch 9/40\n",
      "143/143 [==============================] - 2s 12ms/step - loss: 0.3479 - accuracy: 0.8478 - val_loss: 0.3740 - val_accuracy: 0.8461\n",
      "Epoch 10/40\n",
      "143/143 [==============================] - 2s 12ms/step - loss: 0.3337 - accuracy: 0.8572 - val_loss: 0.3606 - val_accuracy: 0.8445\n",
      "Epoch 11/40\n",
      "143/143 [==============================] - 2s 12ms/step - loss: 0.3382 - accuracy: 0.8544 - val_loss: 0.3626 - val_accuracy: 0.8430\n",
      "Epoch 12/40\n",
      "143/143 [==============================] - 2s 12ms/step - loss: 0.3130 - accuracy: 0.8638 - val_loss: 0.3580 - val_accuracy: 0.8522\n",
      "Epoch 13/40\n",
      "143/143 [==============================] - 2s 12ms/step - loss: 0.3110 - accuracy: 0.8608 - val_loss: 0.3542 - val_accuracy: 0.8492\n",
      "Epoch 14/40\n",
      "143/143 [==============================] - 2s 12ms/step - loss: 0.2968 - accuracy: 0.8715 - val_loss: 0.3708 - val_accuracy: 0.8553\n",
      "Epoch 15/40\n",
      "143/143 [==============================] - 2s 12ms/step - loss: 0.2785 - accuracy: 0.8777 - val_loss: 0.3532 - val_accuracy: 0.8553\n",
      "Epoch 16/40\n",
      "143/143 [==============================] - 2s 12ms/step - loss: 0.2818 - accuracy: 0.8718 - val_loss: 0.3487 - val_accuracy: 0.8548\n",
      "Epoch 17/40\n",
      "143/143 [==============================] - 2s 12ms/step - loss: 0.2751 - accuracy: 0.8755 - val_loss: 0.3743 - val_accuracy: 0.8563\n",
      "Epoch 18/40\n",
      "143/143 [==============================] - 2s 12ms/step - loss: 0.2625 - accuracy: 0.8854 - val_loss: 0.3576 - val_accuracy: 0.8563\n",
      "Epoch 19/40\n",
      "143/143 [==============================] - 2s 13ms/step - loss: 0.2562 - accuracy: 0.8880 - val_loss: 0.3712 - val_accuracy: 0.8630\n",
      "Epoch 20/40\n",
      "143/143 [==============================] - 2s 13ms/step - loss: 0.2478 - accuracy: 0.8845 - val_loss: 0.4520 - val_accuracy: 0.8543\n",
      "Epoch 21/40\n",
      "143/143 [==============================] - 2s 13ms/step - loss: 0.2518 - accuracy: 0.8869 - val_loss: 0.3901 - val_accuracy: 0.8471\n",
      "Epoch 22/40\n",
      "143/143 [==============================] - 2s 13ms/step - loss: 0.2407 - accuracy: 0.8909 - val_loss: 0.3658 - val_accuracy: 0.8553\n",
      "Epoch 23/40\n",
      "143/143 [==============================] - 2s 13ms/step - loss: 0.2383 - accuracy: 0.8942 - val_loss: 0.3814 - val_accuracy: 0.8594\n",
      "Epoch 24/40\n",
      "143/143 [==============================] - 2s 13ms/step - loss: 0.2390 - accuracy: 0.8929 - val_loss: 0.3872 - val_accuracy: 0.8635\n",
      "Epoch 25/40\n",
      "143/143 [==============================] - 2s 13ms/step - loss: 0.2240 - accuracy: 0.8977 - val_loss: 0.3985 - val_accuracy: 0.8594\n",
      "Epoch 26/40\n",
      "143/143 [==============================] - 2s 13ms/step - loss: 0.2298 - accuracy: 0.8944 - val_loss: 0.4417 - val_accuracy: 0.8548\n",
      "Epoch 27/40\n",
      "143/143 [==============================] - 2s 13ms/step - loss: 0.2293 - accuracy: 0.8977 - val_loss: 0.4677 - val_accuracy: 0.8568\n",
      "Epoch 28/40\n",
      "143/143 [==============================] - 2s 13ms/step - loss: 0.2286 - accuracy: 0.8968 - val_loss: 0.3879 - val_accuracy: 0.8707\n",
      "Epoch 29/40\n",
      "143/143 [==============================] - 2s 13ms/step - loss: 0.2204 - accuracy: 0.8982 - val_loss: 0.4101 - val_accuracy: 0.8651\n",
      "Epoch 30/40\n",
      "143/143 [==============================] - 2s 14ms/step - loss: 0.2140 - accuracy: 0.9045 - val_loss: 0.4208 - val_accuracy: 0.8630\n",
      "Epoch 31/40\n",
      "143/143 [==============================] - 2s 13ms/step - loss: 0.2152 - accuracy: 0.9034 - val_loss: 0.4094 - val_accuracy: 0.8625\n",
      "Epoch 32/40\n",
      "143/143 [==============================] - 2s 13ms/step - loss: 0.2061 - accuracy: 0.9085 - val_loss: 0.4389 - val_accuracy: 0.8635\n",
      "Epoch 33/40\n",
      "143/143 [==============================] - 2s 13ms/step - loss: 0.2001 - accuracy: 0.9138 - val_loss: 0.4983 - val_accuracy: 0.8563\n",
      "Epoch 34/40\n",
      "143/143 [==============================] - 2s 13ms/step - loss: 0.2039 - accuracy: 0.9034 - val_loss: 0.4388 - val_accuracy: 0.8533\n",
      "Epoch 35/40\n",
      "143/143 [==============================] - 2s 13ms/step - loss: 0.2008 - accuracy: 0.9105 - val_loss: 0.4966 - val_accuracy: 0.8471\n",
      "Epoch 36/40\n",
      "143/143 [==============================] - 2s 13ms/step - loss: 0.2034 - accuracy: 0.9063 - val_loss: 0.4913 - val_accuracy: 0.8661\n",
      "Epoch 37/40\n",
      "143/143 [==============================] - 2s 13ms/step - loss: 0.1992 - accuracy: 0.9129 - val_loss: 0.5093 - val_accuracy: 0.8681\n",
      "Epoch 38/40\n",
      "143/143 [==============================] - 2s 13ms/step - loss: 0.2151 - accuracy: 0.8982 - val_loss: 0.5038 - val_accuracy: 0.8543\n",
      "Epoch 39/40\n",
      "143/143 [==============================] - 2s 13ms/step - loss: 0.1998 - accuracy: 0.9142 - val_loss: 0.5482 - val_accuracy: 0.8656\n",
      "Epoch 40/40\n",
      "143/143 [==============================] - 2s 13ms/step - loss: 0.1927 - accuracy: 0.9158 - val_loss: 0.5301 - val_accuracy: 0.8692\n"
     ]
    }
   ],
   "source": [
    "history = model.fit(X_train, y_train, epochs = 40, validation_data= (X_test, y_test), verbose=1)"
   ]
  },
  {
   "cell_type": "code",
   "execution_count": 61,
   "metadata": {},
   "outputs": [],
   "source": [
    "from mlxtend.plotting import plot_confusion_matrix\n",
    "from sklearn.metrics import confusion_matrix"
   ]
  },
  {
   "cell_type": "code",
   "execution_count": 62,
   "metadata": {},
   "outputs": [],
   "source": [
    "pred = model.predict(X_test, batch_size = 32)\n",
    "pred = np.argmax(pred, axis=1)"
   ]
  },
  {
   "cell_type": "code",
   "execution_count": 63,
   "metadata": {},
   "outputs": [
    {
     "data": {
      "text/plain": [
       "(<Figure size 504x504 with 1 Axes>,\n",
       " <matplotlib.axes._subplots.AxesSubplot at 0x20c96b2c4f0>)"
      ]
     },
     "execution_count": 63,
     "metadata": {},
     "output_type": "execute_result"
    },
    {
     "data": {
      "image/png": "[encoded data removed]",
      "text/plain": [
       "<Figure size 504x504 with 1 Axes>"
      ]
     },
     "metadata": {},
     "output_type": "display_data"
    }
   ],
   "source": [
    "import seaborn as sns\n",
    "mat = confusion_matrix(y_test, pred)\n",
    "plot_confusion_matrix(conf_mat=mat, class_names=label.classes_, show_normed=True, figsize=(7,7))"
   ]
  },
  {
   "cell_type": "code",
   "execution_count": 64,
   "metadata": {},
   "outputs": [
    {
     "name": "stdout",
     "output_type": "stream",
     "text": [
      "test loss, test acc: [0.1204179897904396, 1.0]\n"
     ]
    }
   ],
   "source": [
    "score = model.evaluate(X_test, pred, verbose=0)\n",
    "print(\"test loss, test acc:\", score)"
   ]
  },
  {
   "cell_type": "code",
   "execution_count": null,
   "metadata": {},
   "outputs": [],
   "source": []
  },
  {
   "cell_type": "code",
   "execution_count": null,
   "metadata": {},
   "outputs": [],
   "source": []
  }
 ],
 "metadata": {
  "kernelspec": {
   "display_name": "Python 3",
   "language": "python",
   "name": "python3"
  },
  "language_info": {
   "codemirror_mode": {
    "name": "ipython",
    "version": 3
   },
   "file_extension": ".py",
   "mimetype": "text/x-python",
   "name": "python",
   "nbconvert_exporter": "python",
   "pygments_lexer": "ipython3",
   "version": "3.8.3"
  }
 },
 "nbformat": 4,
 "nbformat_minor": 4
}
