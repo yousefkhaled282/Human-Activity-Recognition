{
 "cells": [
  {
   "cell_type": "code",
   "execution_count": 1,
   "metadata": {},
   "outputs": [],
   "source": [
    "import pandas as pd\n",
    "import numpy as np\n",
    "from sklearn.model_selection import train_test_split\n",
    "from sklearn.preprocessing import StandardScaler, LabelEncoder\n",
    "from scipy import stats\n",
    "from jupyterthemes import jtplot\n",
    "\n",
    "jtplot.style(theme='monokai', context='notebook', ticks=True, grid=False)"
   ]
  },
  {
   "cell_type": "code",
   "execution_count": 2,
   "metadata": {},
   "outputs": [
    {
     "name": "stdout",
     "output_type": "stream",
     "text": [
      "2.6.0\n"
     ]
    }
   ],
   "source": [
    "import tensorflow as tf\n",
    "from tensorflow.keras import Sequential\n",
    "from tensorflow.keras.layers import Flatten, Dense, Dropout, BatchNormalization\n",
    "from tensorflow.keras.layers import Conv2D, MaxPool2D\n",
    "from tensorflow.keras.optimizers import Adam\n",
    "print(tf.__version__)"
   ]
  },
  {
   "cell_type": "code",
   "execution_count": 33,
   "metadata": {},
   "outputs": [],
   "source": [
    "# df=pd.read_excel('appdata.xlsx')"
   ]
  },
  {
   "cell_type": "code",
   "execution_count": 55,
   "metadata": {},
   "outputs": [],
   "source": [
    "df=pd.read_csv('test_appdata.csv')"
   ]
  },
  {
   "cell_type": "code",
   "execution_count": 56,
   "metadata": {},
   "outputs": [
    {
     "data": {
      "text/html": [
       "<div>\n",
       "<style scoped>\n",
       "    .dataframe tbody tr th:only-of-type {\n",
       "        vertical-align: middle;\n",
       "    }\n",
       "\n",
       "    .dataframe tbody tr th {\n",
       "        vertical-align: top;\n",
       "    }\n",
       "\n",
       "    .dataframe thead th {\n",
       "        text-align: right;\n",
       "    }\n",
       "</style>\n",
       "<table border=\"1\" class=\"dataframe\">\n",
       "  <thead>\n",
       "    <tr style=\"text-align: right;\">\n",
       "      <th></th>\n",
       "      <th>timeElapsed</th>\n",
       "      <th>x</th>\n",
       "      <th>y</th>\n",
       "      <th>z</th>\n",
       "      <th>label</th>\n",
       "    </tr>\n",
       "  </thead>\n",
       "  <tbody>\n",
       "    <tr>\n",
       "      <td>0</td>\n",
       "      <td>0</td>\n",
       "      <td>0.75</td>\n",
       "      <td>-9.53</td>\n",
       "      <td>1.04</td>\n",
       "      <td>Standing</td>\n",
       "    </tr>\n",
       "    <tr>\n",
       "      <td>1</td>\n",
       "      <td>1</td>\n",
       "      <td>0.76</td>\n",
       "      <td>-9.55</td>\n",
       "      <td>1.05</td>\n",
       "      <td>Standing</td>\n",
       "    </tr>\n",
       "    <tr>\n",
       "      <td>2</td>\n",
       "      <td>2</td>\n",
       "      <td>0.77</td>\n",
       "      <td>-9.53</td>\n",
       "      <td>1.05</td>\n",
       "      <td>Standing</td>\n",
       "    </tr>\n",
       "    <tr>\n",
       "      <td>3</td>\n",
       "      <td>3</td>\n",
       "      <td>0.80</td>\n",
       "      <td>-9.53</td>\n",
       "      <td>1.01</td>\n",
       "      <td>Standing</td>\n",
       "    </tr>\n",
       "    <tr>\n",
       "      <td>4</td>\n",
       "      <td>4</td>\n",
       "      <td>0.87</td>\n",
       "      <td>-9.55</td>\n",
       "      <td>1.03</td>\n",
       "      <td>Standing</td>\n",
       "    </tr>\n",
       "  </tbody>\n",
       "</table>\n",
       "</div>"
      ],
      "text/plain": [
       "   timeElapsed     x     y     z     label\n",
       "0            0  0.75 -9.53  1.04  Standing\n",
       "1            1  0.76 -9.55  1.05  Standing\n",
       "2            2  0.77 -9.53  1.05  Standing\n",
       "3            3  0.80 -9.53  1.01  Standing\n",
       "4            4  0.87 -9.55  1.03  Standing"
      ]
     },
     "execution_count": 56,
     "metadata": {},
     "output_type": "execute_result"
    }
   ],
   "source": [
    "df.head()"
   ]
  },
  {
   "cell_type": "code",
   "execution_count": 57,
   "metadata": {},
   "outputs": [
    {
     "data": {
      "text/plain": [
       "Walking       100033\n",
       "Sitting        91000\n",
       "Upstairs       66095\n",
       "Downstairs     42443\n",
       "Standing       42353\n",
       "Name: label, dtype: int64"
      ]
     },
     "execution_count": 57,
     "metadata": {},
     "output_type": "execute_result"
    }
   ],
   "source": [
    "df['label'].value_counts()"
   ]
  },
  {
   "cell_type": "code",
   "execution_count": 58,
   "metadata": {},
   "outputs": [],
   "source": [
    "from sklearn.preprocessing import LabelEncoder"
   ]
  },
  {
   "cell_type": "code",
   "execution_count": 59,
   "metadata": {},
   "outputs": [
    {
     "data": {
      "text/html": [
       "<div>\n",
       "<style scoped>\n",
       "    .dataframe tbody tr th:only-of-type {\n",
       "        vertical-align: middle;\n",
       "    }\n",
       "\n",
       "    .dataframe tbody tr th {\n",
       "        vertical-align: top;\n",
       "    }\n",
       "\n",
       "    .dataframe thead th {\n",
       "        text-align: right;\n",
       "    }\n",
       "</style>\n",
       "<table border=\"1\" class=\"dataframe\">\n",
       "  <thead>\n",
       "    <tr style=\"text-align: right;\">\n",
       "      <th></th>\n",
       "      <th>timeElapsed</th>\n",
       "      <th>x</th>\n",
       "      <th>y</th>\n",
       "      <th>z</th>\n",
       "      <th>label</th>\n",
       "      <th>ActivityLabel</th>\n",
       "    </tr>\n",
       "  </thead>\n",
       "  <tbody>\n",
       "    <tr>\n",
       "      <td>341919</td>\n",
       "      <td>341919</td>\n",
       "      <td>1.13</td>\n",
       "      <td>-0.77</td>\n",
       "      <td>9.86</td>\n",
       "      <td>Standing</td>\n",
       "      <td>2</td>\n",
       "    </tr>\n",
       "    <tr>\n",
       "      <td>341920</td>\n",
       "      <td>341920</td>\n",
       "      <td>1.91</td>\n",
       "      <td>0.20</td>\n",
       "      <td>10.12</td>\n",
       "      <td>Standing</td>\n",
       "      <td>2</td>\n",
       "    </tr>\n",
       "    <tr>\n",
       "      <td>341921</td>\n",
       "      <td>341921</td>\n",
       "      <td>2.53</td>\n",
       "      <td>1.34</td>\n",
       "      <td>10.42</td>\n",
       "      <td>Standing</td>\n",
       "      <td>2</td>\n",
       "    </tr>\n",
       "    <tr>\n",
       "      <td>341922</td>\n",
       "      <td>341922</td>\n",
       "      <td>1.75</td>\n",
       "      <td>0.68</td>\n",
       "      <td>9.61</td>\n",
       "      <td>Standing</td>\n",
       "      <td>2</td>\n",
       "    </tr>\n",
       "    <tr>\n",
       "      <td>341923</td>\n",
       "      <td>341923</td>\n",
       "      <td>1.84</td>\n",
       "      <td>1.27</td>\n",
       "      <td>10.54</td>\n",
       "      <td>Standing</td>\n",
       "      <td>2</td>\n",
       "    </tr>\n",
       "  </tbody>\n",
       "</table>\n",
       "</div>"
      ],
      "text/plain": [
       "        timeElapsed     x     y      z     label  ActivityLabel\n",
       "341919       341919  1.13 -0.77   9.86  Standing              2\n",
       "341920       341920  1.91  0.20  10.12  Standing              2\n",
       "341921       341921  2.53  1.34  10.42  Standing              2\n",
       "341922       341922  1.75  0.68   9.61  Standing              2\n",
       "341923       341923  1.84  1.27  10.54  Standing              2"
      ]
     },
     "execution_count": 59,
     "metadata": {},
     "output_type": "execute_result"
    }
   ],
   "source": [
    "label = LabelEncoder()\n",
    "df['ActivityLabel'] = label.fit_transform(df['label'])\n",
    "df.tail()"
   ]
  },
  {
   "cell_type": "code",
   "execution_count": 60,
   "metadata": {},
   "outputs": [
    {
     "data": {
      "text/plain": [
       "array(['Downstairs', 'Sitting', 'Standing', 'Upstairs', 'Walking'],\n",
       "      dtype=object)"
      ]
     },
     "execution_count": 60,
     "metadata": {},
     "output_type": "execute_result"
    }
   ],
   "source": [
    "label.classes_\n",
    "\n"
   ]
  },
  {
   "cell_type": "markdown",
   "metadata": {},
   "source": [
    "### Standardized data "
   ]
  },
  {
   "cell_type": "code",
   "execution_count": 61,
   "metadata": {},
   "outputs": [],
   "source": [
    "X = df[['x', 'y', 'z']]\n",
    "y = df['ActivityLabel']"
   ]
  },
  {
   "cell_type": "code",
   "execution_count": 62,
   "metadata": {},
   "outputs": [
    {
     "data": {
      "text/html": [
       "<div>\n",
       "<style scoped>\n",
       "    .dataframe tbody tr th:only-of-type {\n",
       "        vertical-align: middle;\n",
       "    }\n",
       "\n",
       "    .dataframe tbody tr th {\n",
       "        vertical-align: top;\n",
       "    }\n",
       "\n",
       "    .dataframe thead th {\n",
       "        text-align: right;\n",
       "    }\n",
       "</style>\n",
       "<table border=\"1\" class=\"dataframe\">\n",
       "  <thead>\n",
       "    <tr style=\"text-align: right;\">\n",
       "      <th></th>\n",
       "      <th>x</th>\n",
       "      <th>y</th>\n",
       "      <th>z</th>\n",
       "      <th>ActivityLabel</th>\n",
       "    </tr>\n",
       "  </thead>\n",
       "  <tbody>\n",
       "    <tr>\n",
       "      <td>0</td>\n",
       "      <td>-0.477386</td>\n",
       "      <td>-0.959055</td>\n",
       "      <td>0.105813</td>\n",
       "      <td>2</td>\n",
       "    </tr>\n",
       "    <tr>\n",
       "      <td>1</td>\n",
       "      <td>-0.475363</td>\n",
       "      <td>-0.962177</td>\n",
       "      <td>0.107647</td>\n",
       "      <td>2</td>\n",
       "    </tr>\n",
       "    <tr>\n",
       "      <td>2</td>\n",
       "      <td>-0.473341</td>\n",
       "      <td>-0.959055</td>\n",
       "      <td>0.107647</td>\n",
       "      <td>2</td>\n",
       "    </tr>\n",
       "    <tr>\n",
       "      <td>3</td>\n",
       "      <td>-0.467273</td>\n",
       "      <td>-0.959055</td>\n",
       "      <td>0.100313</td>\n",
       "      <td>2</td>\n",
       "    </tr>\n",
       "    <tr>\n",
       "      <td>4</td>\n",
       "      <td>-0.453115</td>\n",
       "      <td>-0.962177</td>\n",
       "      <td>0.103980</td>\n",
       "      <td>2</td>\n",
       "    </tr>\n",
       "    <tr>\n",
       "      <td>...</td>\n",
       "      <td>...</td>\n",
       "      <td>...</td>\n",
       "      <td>...</td>\n",
       "      <td>...</td>\n",
       "    </tr>\n",
       "    <tr>\n",
       "      <td>341919</td>\n",
       "      <td>-0.400528</td>\n",
       "      <td>0.408408</td>\n",
       "      <td>1.723041</td>\n",
       "      <td>2</td>\n",
       "    </tr>\n",
       "    <tr>\n",
       "      <td>341920</td>\n",
       "      <td>-0.242768</td>\n",
       "      <td>0.559828</td>\n",
       "      <td>1.770715</td>\n",
       "      <td>2</td>\n",
       "    </tr>\n",
       "    <tr>\n",
       "      <td>341921</td>\n",
       "      <td>-0.117368</td>\n",
       "      <td>0.737785</td>\n",
       "      <td>1.825723</td>\n",
       "      <td>2</td>\n",
       "    </tr>\n",
       "    <tr>\n",
       "      <td>341922</td>\n",
       "      <td>-0.275129</td>\n",
       "      <td>0.634757</td>\n",
       "      <td>1.677202</td>\n",
       "      <td>2</td>\n",
       "    </tr>\n",
       "    <tr>\n",
       "      <td>341923</td>\n",
       "      <td>-0.256926</td>\n",
       "      <td>0.726858</td>\n",
       "      <td>1.847726</td>\n",
       "      <td>2</td>\n",
       "    </tr>\n",
       "  </tbody>\n",
       "</table>\n",
       "<p>341924 rows × 4 columns</p>\n",
       "</div>"
      ],
      "text/plain": [
       "               x         y         z  ActivityLabel\n",
       "0      -0.477386 -0.959055  0.105813              2\n",
       "1      -0.475363 -0.962177  0.107647              2\n",
       "2      -0.473341 -0.959055  0.107647              2\n",
       "3      -0.467273 -0.959055  0.100313              2\n",
       "4      -0.453115 -0.962177  0.103980              2\n",
       "...          ...       ...       ...            ...\n",
       "341919 -0.400528  0.408408  1.723041              2\n",
       "341920 -0.242768  0.559828  1.770715              2\n",
       "341921 -0.117368  0.737785  1.825723              2\n",
       "341922 -0.275129  0.634757  1.677202              2\n",
       "341923 -0.256926  0.726858  1.847726              2\n",
       "\n",
       "[341924 rows x 4 columns]"
      ]
     },
     "execution_count": 62,
     "metadata": {},
     "output_type": "execute_result"
    }
   ],
   "source": [
    "scaler = StandardScaler()\n",
    "X = scaler.fit_transform(X)\n",
    "\n",
    "scaled_X = pd.DataFrame(data = X, columns = ['x', 'y', 'z'])\n",
    "scaled_X['ActivityLabel'] = y.values\n",
    "\n",
    "scaled_X"
   ]
  },
  {
   "cell_type": "markdown",
   "metadata": {},
   "source": [
    "### Frame Preparation "
   ]
  },
  {
   "cell_type": "code",
   "execution_count": 63,
   "metadata": {},
   "outputs": [],
   "source": [
    "Fs = 50\n",
    "frame_size = Fs*4 # 80\n",
    "hop_size = Fs*2 # 40"
   ]
  },
  {
   "cell_type": "code",
   "execution_count": 64,
   "metadata": {},
   "outputs": [],
   "source": [
    "def get_frames(df, frame_size, hop_size):\n",
    "    N_FEATURES = 3\n",
    "    frames = []\n",
    "    labels = []\n",
    "    for i in range(0, len(df) - frame_size, hop_size):\n",
    "        x = df['x'].values[i: i + frame_size]\n",
    "        y = df['y'].values[i: i + frame_size]\n",
    "        z = df['z'].values[i: i + frame_size]\n",
    "        # Retrieve the most often used label in this segment\n",
    "        label = stats.mode(df['ActivityLabel'][i: i + frame_size])[0][0]\n",
    "\n",
    "        frames.append([x, y, z])\n",
    "        labels.append(label)\n",
    "\n",
    "    # Bring the segments into a better shape\n",
    "    frames = np.asarray(frames).reshape(-1, frame_size, N_FEATURES)\n",
    "    labels = np.asarray(labels)\n",
    "\n",
    "    return frames, labels"
   ]
  },
  {
   "cell_type": "code",
   "execution_count": 65,
   "metadata": {},
   "outputs": [],
   "source": [
    "X, y = get_frames(scaled_X, frame_size, hop_size)"
   ]
  },
  {
   "cell_type": "code",
   "execution_count": 45,
   "metadata": {},
   "outputs": [],
   "source": [
    "X_train, X_test, y_train, y_test = train_test_split(X, y, test_size = 0.3, random_state = 0, stratify = y)"
   ]
  },
  {
   "cell_type": "code",
   "execution_count": 46,
   "metadata": {},
   "outputs": [],
   "source": [
    "X_train = X_train.reshape(X_train.shape[0], X_train.shape[1], 3, 1)\n",
    "X_test = X_test.reshape(X_test.shape[0], X_test.shape[1], 3, 1)"
   ]
  },
  {
   "cell_type": "code",
   "execution_count": 47,
   "metadata": {},
   "outputs": [],
   "source": [
    "model = Sequential()\n",
    "model.add(Conv2D(16, (2, 2), activation = 'relu', input_shape = X_train[0].shape))\n",
    "model.add(Dropout(0.1))\n",
    "\n",
    "model.add(Conv2D(32, (2, 2), activation='relu'))\n",
    "model.add(Dropout(0.2))\n",
    "\n",
    "model.add(Flatten())\n",
    "\n",
    "model.add(Dense(64, activation = 'relu'))\n",
    "model.add(Dropout(0.5))\n",
    "\n",
    "model.add(Dense(6, activation='softmax'))\n"
   ]
  },
  {
   "cell_type": "code",
   "execution_count": 48,
   "metadata": {},
   "outputs": [],
   "source": [
    "model.compile(optimizer=Adam(learning_rate = 0.001), loss = 'sparse_categorical_crossentropy', metrics = ['accuracy'])"
   ]
  },
  {
   "cell_type": "code",
   "execution_count": 49,
   "metadata": {},
   "outputs": [
    {
     "name": "stdout",
     "output_type": "stream",
     "text": [
      "Epoch 1/40\n",
      "179/179 [==============================] - 2s 12ms/step - loss: 0.7930 - accuracy: 0.6986 - val_loss: 0.5958 - val_accuracy: 0.7584\n",
      "Epoch 2/40\n",
      "179/179 [==============================] - 2s 11ms/step - loss: 0.6180 - accuracy: 0.7517 - val_loss: 0.5313 - val_accuracy: 0.7910\n",
      "Epoch 3/40\n",
      "179/179 [==============================] - 2s 12ms/step - loss: 0.5596 - accuracy: 0.7786 - val_loss: 0.5052 - val_accuracy: 0.8036\n",
      "Epoch 4/40\n",
      "179/179 [==============================] - 2s 12ms/step - loss: 0.5149 - accuracy: 0.7915 - val_loss: 0.5037 - val_accuracy: 0.8085\n",
      "Epoch 5/40\n",
      "179/179 [==============================] - 2s 11ms/step - loss: 0.4832 - accuracy: 0.8097 - val_loss: 0.4786 - val_accuracy: 0.8166\n",
      "Epoch 6/40\n",
      "179/179 [==============================] - 2s 12ms/step - loss: 0.4634 - accuracy: 0.8143 - val_loss: 0.4764 - val_accuracy: 0.8215\n",
      "Epoch 7/40\n",
      "179/179 [==============================] - 2s 12ms/step - loss: 0.4441 - accuracy: 0.8200 - val_loss: 0.4711 - val_accuracy: 0.8223\n",
      "Epoch 8/40\n",
      "179/179 [==============================] - 2s 12ms/step - loss: 0.4253 - accuracy: 0.8298 - val_loss: 0.4552 - val_accuracy: 0.8248\n",
      "Epoch 9/40\n",
      "179/179 [==============================] - 2s 12ms/step - loss: 0.4101 - accuracy: 0.8359 - val_loss: 0.4758 - val_accuracy: 0.8178\n",
      "Epoch 10/40\n",
      "179/179 [==============================] - 2s 12ms/step - loss: 0.3902 - accuracy: 0.8406 - val_loss: 0.4612 - val_accuracy: 0.8280\n",
      "Epoch 11/40\n",
      "179/179 [==============================] - 2s 11ms/step - loss: 0.3759 - accuracy: 0.8466 - val_loss: 0.4567 - val_accuracy: 0.8305\n",
      "Epoch 12/40\n",
      "179/179 [==============================] - 2s 12ms/step - loss: 0.3614 - accuracy: 0.8518 - val_loss: 0.4581 - val_accuracy: 0.8297\n",
      "Epoch 13/40\n",
      "179/179 [==============================] - 2s 12ms/step - loss: 0.3502 - accuracy: 0.8558 - val_loss: 0.4430 - val_accuracy: 0.8305\n",
      "Epoch 14/40\n",
      "179/179 [==============================] - 2s 12ms/step - loss: 0.3389 - accuracy: 0.8611 - val_loss: 0.4530 - val_accuracy: 0.8268\n",
      "Epoch 15/40\n",
      "179/179 [==============================] - 2s 12ms/step - loss: 0.3236 - accuracy: 0.8679 - val_loss: 0.4451 - val_accuracy: 0.8370\n",
      "Epoch 16/40\n",
      "179/179 [==============================] - 2s 12ms/step - loss: 0.3324 - accuracy: 0.8578 - val_loss: 0.4532 - val_accuracy: 0.8305\n",
      "Epoch 17/40\n",
      "179/179 [==============================] - 2s 11ms/step - loss: 0.3143 - accuracy: 0.8676 - val_loss: 0.4464 - val_accuracy: 0.8346\n",
      "Epoch 18/40\n",
      "179/179 [==============================] - 2s 12ms/step - loss: 0.3008 - accuracy: 0.8752 - val_loss: 0.4777 - val_accuracy: 0.8252\n",
      "Epoch 19/40\n",
      "179/179 [==============================] - 2s 11ms/step - loss: 0.3033 - accuracy: 0.8744 - val_loss: 0.5076 - val_accuracy: 0.8272\n",
      "Epoch 20/40\n",
      "179/179 [==============================] - 2s 12ms/step - loss: 0.2896 - accuracy: 0.8789 - val_loss: 0.5015 - val_accuracy: 0.8248\n",
      "Epoch 21/40\n",
      "179/179 [==============================] - 2s 12ms/step - loss: 0.2775 - accuracy: 0.8831 - val_loss: 0.4656 - val_accuracy: 0.8313\n",
      "Epoch 22/40\n",
      "179/179 [==============================] - 2s 11ms/step - loss: 0.2783 - accuracy: 0.8796 - val_loss: 0.4786 - val_accuracy: 0.8354\n",
      "Epoch 23/40\n",
      "179/179 [==============================] - 2s 11ms/step - loss: 0.2754 - accuracy: 0.8826 - val_loss: 0.5253 - val_accuracy: 0.8264\n",
      "Epoch 24/40\n",
      "179/179 [==============================] - 2s 11ms/step - loss: 0.2679 - accuracy: 0.8924 - val_loss: 0.4784 - val_accuracy: 0.8362\n",
      "Epoch 25/40\n",
      "179/179 [==============================] - 2s 11ms/step - loss: 0.2674 - accuracy: 0.8873 - val_loss: 0.4963 - val_accuracy: 0.8268\n",
      "Epoch 26/40\n",
      "179/179 [==============================] - 2s 11ms/step - loss: 0.2571 - accuracy: 0.8939 - val_loss: 0.4810 - val_accuracy: 0.8346\n",
      "Epoch 27/40\n",
      "179/179 [==============================] - 2s 12ms/step - loss: 0.2604 - accuracy: 0.8889 - val_loss: 0.5077 - val_accuracy: 0.8411\n",
      "Epoch 28/40\n",
      "179/179 [==============================] - 2s 11ms/step - loss: 0.2422 - accuracy: 0.8974 - val_loss: 0.5186 - val_accuracy: 0.8354\n",
      "Epoch 29/40\n",
      "179/179 [==============================] - 2s 12ms/step - loss: 0.2412 - accuracy: 0.8995 - val_loss: 0.5583 - val_accuracy: 0.8341\n",
      "Epoch 30/40\n",
      "179/179 [==============================] - 2s 11ms/step - loss: 0.2336 - accuracy: 0.8992 - val_loss: 0.5085 - val_accuracy: 0.8378\n",
      "Epoch 31/40\n",
      "179/179 [==============================] - 2s 13ms/step - loss: 0.2337 - accuracy: 0.9011 - val_loss: 0.5391 - val_accuracy: 0.8382\n",
      "Epoch 32/40\n",
      "179/179 [==============================] - 3s 15ms/step - loss: 0.2301 - accuracy: 0.9044 - val_loss: 0.5575 - val_accuracy: 0.8333\n",
      "Epoch 33/40\n",
      "179/179 [==============================] - 2s 13ms/step - loss: 0.2319 - accuracy: 0.9030 - val_loss: 0.5390 - val_accuracy: 0.8435\n",
      "Epoch 34/40\n",
      "179/179 [==============================] - 2s 13ms/step - loss: 0.2213 - accuracy: 0.9093 - val_loss: 0.5757 - val_accuracy: 0.8260\n",
      "Epoch 35/40\n",
      "179/179 [==============================] - 2s 13ms/step - loss: 0.2225 - accuracy: 0.9032 - val_loss: 0.5880 - val_accuracy: 0.8305\n",
      "Epoch 36/40\n",
      "179/179 [==============================] - 2s 13ms/step - loss: 0.2256 - accuracy: 0.9084 - val_loss: 0.5498 - val_accuracy: 0.8427\n",
      "Epoch 37/40\n",
      "179/179 [==============================] - 2s 13ms/step - loss: 0.2164 - accuracy: 0.9065 - val_loss: 0.5299 - val_accuracy: 0.8362\n",
      "Epoch 38/40\n",
      "179/179 [==============================] - 3s 17ms/step - loss: 0.2086 - accuracy: 0.9128 - val_loss: 0.5265 - val_accuracy: 0.8439\n",
      "Epoch 39/40\n",
      "179/179 [==============================] - 3s 17ms/step - loss: 0.1994 - accuracy: 0.9158 - val_loss: 0.5991 - val_accuracy: 0.8329\n",
      "Epoch 40/40\n",
      "179/179 [==============================] - 3s 17ms/step - loss: 0.2014 - accuracy: 0.9149 - val_loss: 0.5200 - val_accuracy: 0.8362\n"
     ]
    }
   ],
   "source": [
    "history = model.fit(X_train, y_train, epochs = 40, validation_data= (X_test, y_test), verbose=1)"
   ]
  },
  {
   "cell_type": "code",
   "execution_count": 50,
   "metadata": {},
   "outputs": [],
   "source": [
    "from mlxtend.plotting import plot_confusion_matrix\n",
    "from sklearn.metrics import confusion_matrix"
   ]
  },
  {
   "cell_type": "code",
   "execution_count": 51,
   "metadata": {},
   "outputs": [],
   "source": [
    "pred = model.predict(X_test, batch_size = 32)\n",
    "pred = np.argmax(pred, axis=1)"
   ]
  },
  {
   "cell_type": "code",
   "execution_count": 52,
   "metadata": {},
   "outputs": [
    {
     "data": {
      "text/plain": [
       "(<Figure size 504x504 with 1 Axes>,\n",
       " <matplotlib.axes._subplots.AxesSubplot at 0x1850f0e1c48>)"
      ]
     },
     "execution_count": 52,
     "metadata": {},
     "output_type": "execute_result"
    },
    {
     "data": {
      "image/png": "[encoded data removed]",
      "text/plain": [
       "<Figure size 504x504 with 1 Axes>"
      ]
     },
     "metadata": {
      "needs_background": "dark"
     },
     "output_type": "display_data"
    }
   ],
   "source": [
    "import seaborn as sns\n",
    "mat = confusion_matrix(y_test, pred)\n",
    "plot_confusion_matrix(conf_mat=mat, class_names=label.classes_, show_normed=True, figsize=(7,7))"
   ]
  },
  {
   "cell_type": "code",
   "execution_count": 53,
   "metadata": {},
   "outputs": [
    {
     "name": "stdout",
     "output_type": "stream",
     "text": [
      "test loss, test acc: [0.1390361338853836, 1.0]\n"
     ]
    }
   ],
   "source": [
    "score = model.evaluate(X_test, pred, verbose=0)\n",
    "print(\"test loss, test acc:\", score)"
   ]
  },
  {
   "cell_type": "code",
   "execution_count": 54,
   "metadata": {},
   "outputs": [
    {
     "name": "stdout",
     "output_type": "stream",
     "text": [
      "Accuracy ---------> 0.84\n"
     ]
    }
   ],
   "source": [
    "from sklearn.metrics import  accuracy_score\n",
    "\n",
    "print('Accuracy --------->',round(accuracy_score(y_test, pred),2))"
   ]
  },
  {
   "cell_type": "markdown",
   "metadata": {},
   "source": [
    "### Accuracy of independet data\n"
   ]
  },
  {
   "cell_type": "code",
   "execution_count": 66,
   "metadata": {},
   "outputs": [],
   "source": [
    "X = X.reshape(X.shape[0], X.shape[1], 3, 1)"
   ]
  },
  {
   "cell_type": "code",
   "execution_count": 67,
   "metadata": {},
   "outputs": [],
   "source": [
    "pred = model.predict(X, batch_size = 32)\n",
    "pred = np.argmax(pred, axis=1)"
   ]
  },
  {
   "cell_type": "code",
   "execution_count": 68,
   "metadata": {},
   "outputs": [
    {
     "data": {
      "text/plain": [
       "(<Figure size 504x504 with 1 Axes>,\n",
       " <matplotlib.axes._subplots.AxesSubplot at 0x1850f765848>)"
      ]
     },
     "execution_count": 68,
     "metadata": {},
     "output_type": "execute_result"
    },
    {
     "data": {
      "image/png": "[encoded data removed]",
      "text/plain": [
       "<Figure size 504x504 with 1 Axes>"
      ]
     },
     "metadata": {
      "needs_background": "dark"
     },
     "output_type": "display_data"
    }
   ],
   "source": [
    "mat = confusion_matrix(y, pred)\n",
    "plot_confusion_matrix(conf_mat=mat, class_names=label.classes_, show_normed=True, figsize=(7,7))"
   ]
  },
  {
   "cell_type": "code",
   "execution_count": 70,
   "metadata": {},
   "outputs": [
    {
     "name": "stdout",
     "output_type": "stream",
     "text": [
      "Accuracy dependent ---------> 0.68\n"
     ]
    }
   ],
   "source": [
    "from sklearn.metrics import  accuracy_score\n",
    "\n",
    "print('Accuracy dependent --------->',round(accuracy_score(y, pred),2))"
   ]
  },
  {
   "cell_type": "code",
   "execution_count": null,
   "metadata": {},
   "outputs": [],
   "source": []
  }
 ],
 "metadata": {
  "kernelspec": {
   "display_name": "Python 3",
   "language": "python",
   "name": "python3"
  },
  "language_info": {
   "codemirror_mode": {
    "name": "ipython",
    "version": 3
   },
   "file_extension": ".py",
   "mimetype": "text/x-python",
   "name": "python",
   "nbconvert_exporter": "python",
   "pygments_lexer": "ipython3",
   "version": "3.7.4"
  }
 },
 "nbformat": 4,
 "nbformat_minor": 4
}
