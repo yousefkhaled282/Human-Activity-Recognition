{
 "cells": [
  {
   "cell_type": "code",
   "execution_count": 234,
   "metadata": {},
   "outputs": [],
   "source": [
    "import pandas as pd\n",
    "import numpy as np\n",
    "from sklearn.model_selection import train_test_split\n",
    "from sklearn.preprocessing import StandardScaler, LabelEncoder\n",
    "from scipy import stats\n",
    "from jupyterthemes import jtplot\n",
    "\n",
    "jtplot.style(theme='monokai', context='notebook', ticks=True, grid=False)"
   ]
  },
  {
   "cell_type": "code",
   "execution_count": 32,
   "metadata": {},
   "outputs": [
    {
     "name": "stdout",
     "output_type": "stream",
     "text": [
      "2.6.0\n"
     ]
    }
   ],
   "source": [
    "import tensorflow as tf\n",
    "from tensorflow.keras import Sequential\n",
    "from tensorflow.keras.layers import Flatten, Dense, Dropout, BatchNormalization\n",
    "from tensorflow.keras.layers import Conv2D, MaxPool2D\n",
    "from tensorflow.keras.optimizers import Adam\n",
    "print(tf.__version__)"
   ]
  },
  {
   "cell_type": "code",
   "execution_count": 117,
   "metadata": {},
   "outputs": [],
   "source": [
    "# df=pd.read_excel('standing_appdata.xlsx')"
   ]
  },
  {
   "cell_type": "code",
   "execution_count": 261,
   "metadata": {},
   "outputs": [],
   "source": [
    "df=pd.read_csv('test_appdata.csv')"
   ]
  },
  {
   "cell_type": "code",
   "execution_count": 262,
   "metadata": {},
   "outputs": [
    {
     "data": {
      "text/html": [
       "<div>\n",
       "<style scoped>\n",
       "    .dataframe tbody tr th:only-of-type {\n",
       "        vertical-align: middle;\n",
       "    }\n",
       "\n",
       "    .dataframe tbody tr th {\n",
       "        vertical-align: top;\n",
       "    }\n",
       "\n",
       "    .dataframe thead th {\n",
       "        text-align: right;\n",
       "    }\n",
       "</style>\n",
       "<table border=\"1\" class=\"dataframe\">\n",
       "  <thead>\n",
       "    <tr style=\"text-align: right;\">\n",
       "      <th></th>\n",
       "      <th>timeElapsed</th>\n",
       "      <th>x</th>\n",
       "      <th>y</th>\n",
       "      <th>z</th>\n",
       "      <th>label</th>\n",
       "    </tr>\n",
       "  </thead>\n",
       "  <tbody>\n",
       "    <tr>\n",
       "      <th>0</th>\n",
       "      <td>0</td>\n",
       "      <td>-0.76</td>\n",
       "      <td>7.08</td>\n",
       "      <td>8.41</td>\n",
       "      <td>Sitting</td>\n",
       "    </tr>\n",
       "    <tr>\n",
       "      <th>1</th>\n",
       "      <td>1</td>\n",
       "      <td>-1.41</td>\n",
       "      <td>6.68</td>\n",
       "      <td>8.55</td>\n",
       "      <td>Sitting</td>\n",
       "    </tr>\n",
       "    <tr>\n",
       "      <th>2</th>\n",
       "      <td>2</td>\n",
       "      <td>-2.17</td>\n",
       "      <td>6.10</td>\n",
       "      <td>9.31</td>\n",
       "      <td>Sitting</td>\n",
       "    </tr>\n",
       "    <tr>\n",
       "      <th>3</th>\n",
       "      <td>3</td>\n",
       "      <td>-1.06</td>\n",
       "      <td>6.08</td>\n",
       "      <td>9.80</td>\n",
       "      <td>Sitting</td>\n",
       "    </tr>\n",
       "    <tr>\n",
       "      <th>4</th>\n",
       "      <td>4</td>\n",
       "      <td>-0.40</td>\n",
       "      <td>6.29</td>\n",
       "      <td>8.41</td>\n",
       "      <td>Sitting</td>\n",
       "    </tr>\n",
       "  </tbody>\n",
       "</table>\n",
       "</div>"
      ],
      "text/plain": [
       "   timeElapsed     x     y     z    label\n",
       "0            0 -0.76  7.08  8.41  Sitting\n",
       "1            1 -1.41  6.68  8.55  Sitting\n",
       "2            2 -2.17  6.10  9.31  Sitting\n",
       "3            3 -1.06  6.08  9.80  Sitting\n",
       "4            4 -0.40  6.29  8.41  Sitting"
      ]
     },
     "execution_count": 262,
     "metadata": {},
     "output_type": "execute_result"
    }
   ],
   "source": [
    "df.head()"
   ]
  },
  {
   "cell_type": "code",
   "execution_count": 263,
   "metadata": {},
   "outputs": [
    {
     "data": {
      "text/plain": [
       "Walking     13835\n",
       "Standing     8701\n",
       "Sitting      8512\n",
       "Name: label, dtype: int64"
      ]
     },
     "execution_count": 263,
     "metadata": {},
     "output_type": "execute_result"
    }
   ],
   "source": [
    "df['label'].value_counts()"
   ]
  },
  {
   "cell_type": "code",
   "execution_count": 264,
   "metadata": {},
   "outputs": [],
   "source": [
    "from sklearn.preprocessing import LabelEncoder"
   ]
  },
  {
   "cell_type": "code",
   "execution_count": 265,
   "metadata": {},
   "outputs": [
    {
     "data": {
      "text/html": [
       "<div>\n",
       "<style scoped>\n",
       "    .dataframe tbody tr th:only-of-type {\n",
       "        vertical-align: middle;\n",
       "    }\n",
       "\n",
       "    .dataframe tbody tr th {\n",
       "        vertical-align: top;\n",
       "    }\n",
       "\n",
       "    .dataframe thead th {\n",
       "        text-align: right;\n",
       "    }\n",
       "</style>\n",
       "<table border=\"1\" class=\"dataframe\">\n",
       "  <thead>\n",
       "    <tr style=\"text-align: right;\">\n",
       "      <th></th>\n",
       "      <th>timeElapsed</th>\n",
       "      <th>x</th>\n",
       "      <th>y</th>\n",
       "      <th>z</th>\n",
       "      <th>label</th>\n",
       "      <th>ActivityLabel</th>\n",
       "    </tr>\n",
       "  </thead>\n",
       "  <tbody>\n",
       "    <tr>\n",
       "      <th>31043</th>\n",
       "      <td>31043</td>\n",
       "      <td>-0.95</td>\n",
       "      <td>6.78</td>\n",
       "      <td>6.43</td>\n",
       "      <td>Walking</td>\n",
       "      <td>2</td>\n",
       "    </tr>\n",
       "    <tr>\n",
       "      <th>31044</th>\n",
       "      <td>31044</td>\n",
       "      <td>-0.96</td>\n",
       "      <td>6.98</td>\n",
       "      <td>7.85</td>\n",
       "      <td>Walking</td>\n",
       "      <td>2</td>\n",
       "    </tr>\n",
       "    <tr>\n",
       "      <th>31045</th>\n",
       "      <td>31045</td>\n",
       "      <td>-0.45</td>\n",
       "      <td>7.10</td>\n",
       "      <td>8.54</td>\n",
       "      <td>Walking</td>\n",
       "      <td>2</td>\n",
       "    </tr>\n",
       "    <tr>\n",
       "      <th>31046</th>\n",
       "      <td>31046</td>\n",
       "      <td>-0.65</td>\n",
       "      <td>6.79</td>\n",
       "      <td>7.72</td>\n",
       "      <td>Walking</td>\n",
       "      <td>2</td>\n",
       "    </tr>\n",
       "    <tr>\n",
       "      <th>31047</th>\n",
       "      <td>31047</td>\n",
       "      <td>-1.31</td>\n",
       "      <td>6.49</td>\n",
       "      <td>7.53</td>\n",
       "      <td>Walking</td>\n",
       "      <td>2</td>\n",
       "    </tr>\n",
       "  </tbody>\n",
       "</table>\n",
       "</div>"
      ],
      "text/plain": [
       "       timeElapsed     x     y     z    label  ActivityLabel\n",
       "31043        31043 -0.95  6.78  6.43  Walking              2\n",
       "31044        31044 -0.96  6.98  7.85  Walking              2\n",
       "31045        31045 -0.45  7.10  8.54  Walking              2\n",
       "31046        31046 -0.65  6.79  7.72  Walking              2\n",
       "31047        31047 -1.31  6.49  7.53  Walking              2"
      ]
     },
     "execution_count": 265,
     "metadata": {},
     "output_type": "execute_result"
    }
   ],
   "source": [
    "label = LabelEncoder()\n",
    "df['ActivityLabel'] = label.fit_transform(df['label'])\n",
    "df.tail()"
   ]
  },
  {
   "cell_type": "code",
   "execution_count": 266,
   "metadata": {},
   "outputs": [
    {
     "data": {
      "text/plain": [
       "array(['Sitting', 'Standing', 'Walking'], dtype=object)"
      ]
     },
     "execution_count": 266,
     "metadata": {},
     "output_type": "execute_result"
    }
   ],
   "source": [
    "label.classes_### Standardized data "
   ]
  },
  {
   "cell_type": "markdown",
   "metadata": {},
   "source": [
    "### Standardized data "
   ]
  },
  {
   "cell_type": "code",
   "execution_count": 267,
   "metadata": {},
   "outputs": [],
   "source": [
    "X = df[['x', 'y', 'z']]\n",
    "y = df['ActivityLabel']"
   ]
  },
  {
   "cell_type": "code",
   "execution_count": 268,
   "metadata": {},
   "outputs": [
    {
     "data": {
      "text/html": [
       "<div>\n",
       "<style scoped>\n",
       "    .dataframe tbody tr th:only-of-type {\n",
       "        vertical-align: middle;\n",
       "    }\n",
       "\n",
       "    .dataframe tbody tr th {\n",
       "        vertical-align: top;\n",
       "    }\n",
       "\n",
       "    .dataframe thead th {\n",
       "        text-align: right;\n",
       "    }\n",
       "</style>\n",
       "<table border=\"1\" class=\"dataframe\">\n",
       "  <thead>\n",
       "    <tr style=\"text-align: right;\">\n",
       "      <th></th>\n",
       "      <th>x</th>\n",
       "      <th>y</th>\n",
       "      <th>z</th>\n",
       "      <th>ActivityLabel</th>\n",
       "    </tr>\n",
       "  </thead>\n",
       "  <tbody>\n",
       "    <tr>\n",
       "      <th>0</th>\n",
       "      <td>-0.628703</td>\n",
       "      <td>1.318340</td>\n",
       "      <td>1.155428</td>\n",
       "      <td>0</td>\n",
       "    </tr>\n",
       "    <tr>\n",
       "      <th>1</th>\n",
       "      <td>-0.768833</td>\n",
       "      <td>1.257543</td>\n",
       "      <td>1.182799</td>\n",
       "      <td>0</td>\n",
       "    </tr>\n",
       "    <tr>\n",
       "      <th>2</th>\n",
       "      <td>-0.932678</td>\n",
       "      <td>1.169387</td>\n",
       "      <td>1.331384</td>\n",
       "      <td>0</td>\n",
       "    </tr>\n",
       "    <tr>\n",
       "      <th>3</th>\n",
       "      <td>-0.693378</td>\n",
       "      <td>1.166347</td>\n",
       "      <td>1.427182</td>\n",
       "      <td>0</td>\n",
       "    </tr>\n",
       "    <tr>\n",
       "      <th>4</th>\n",
       "      <td>-0.551092</td>\n",
       "      <td>1.198266</td>\n",
       "      <td>1.155428</td>\n",
       "      <td>0</td>\n",
       "    </tr>\n",
       "    <tr>\n",
       "      <th>...</th>\n",
       "      <td>...</td>\n",
       "      <td>...</td>\n",
       "      <td>...</td>\n",
       "      <td>...</td>\n",
       "    </tr>\n",
       "    <tr>\n",
       "      <th>31043</th>\n",
       "      <td>-0.669664</td>\n",
       "      <td>1.272742</td>\n",
       "      <td>0.768327</td>\n",
       "      <td>2</td>\n",
       "    </tr>\n",
       "    <tr>\n",
       "      <th>31044</th>\n",
       "      <td>-0.671820</td>\n",
       "      <td>1.303141</td>\n",
       "      <td>1.045945</td>\n",
       "      <td>2</td>\n",
       "    </tr>\n",
       "    <tr>\n",
       "      <th>31045</th>\n",
       "      <td>-0.561871</td>\n",
       "      <td>1.321380</td>\n",
       "      <td>1.180844</td>\n",
       "      <td>2</td>\n",
       "    </tr>\n",
       "    <tr>\n",
       "      <th>31046</th>\n",
       "      <td>-0.604988</td>\n",
       "      <td>1.274262</td>\n",
       "      <td>1.020529</td>\n",
       "      <td>2</td>\n",
       "    </tr>\n",
       "    <tr>\n",
       "      <th>31047</th>\n",
       "      <td>-0.747275</td>\n",
       "      <td>1.228664</td>\n",
       "      <td>0.983383</td>\n",
       "      <td>2</td>\n",
       "    </tr>\n",
       "  </tbody>\n",
       "</table>\n",
       "<p>31048 rows × 4 columns</p>\n",
       "</div>"
      ],
      "text/plain": [
       "              x         y         z  ActivityLabel\n",
       "0     -0.628703  1.318340  1.155428              0\n",
       "1     -0.768833  1.257543  1.182799              0\n",
       "2     -0.932678  1.169387  1.331384              0\n",
       "3     -0.693378  1.166347  1.427182              0\n",
       "4     -0.551092  1.198266  1.155428              0\n",
       "...         ...       ...       ...            ...\n",
       "31043 -0.669664  1.272742  0.768327              2\n",
       "31044 -0.671820  1.303141  1.045945              2\n",
       "31045 -0.561871  1.321380  1.180844              2\n",
       "31046 -0.604988  1.274262  1.020529              2\n",
       "31047 -0.747275  1.228664  0.983383              2\n",
       "\n",
       "[31048 rows x 4 columns]"
      ]
     },
     "execution_count": 268,
     "metadata": {},
     "output_type": "execute_result"
    }
   ],
   "source": [
    "scaler = StandardScaler()\n",
    "X = scaler.fit_transform(X)\n",
    "\n",
    "scaled_X = pd.DataFrame(data = X, columns = ['x', 'y', 'z'])\n",
    "scaled_X['ActivityLabel'] = y.values\n",
    "\n",
    "scaled_X"
   ]
  },
  {
   "cell_type": "markdown",
   "metadata": {},
   "source": [
    "### Frame Preparation "
   ]
  },
  {
   "cell_type": "code",
   "execution_count": 269,
   "metadata": {},
   "outputs": [],
   "source": [
    "Fs = 50\n",
    "frame_size = Fs*4 # 80\n",
    "hop_size = Fs*2 # 40"
   ]
  },
  {
   "cell_type": "code",
   "execution_count": 270,
   "metadata": {},
   "outputs": [],
   "source": [
    "def get_frames(df, frame_size, hop_size):\n",
    "    N_FEATURES = 3\n",
    "    frames = []\n",
    "    labels = []\n",
    "    for i in range(0, len(df) - frame_size, hop_size):\n",
    "        x = df['x'].values[i: i + frame_size]\n",
    "        y = df['y'].values[i: i + frame_size]\n",
    "        z = df['z'].values[i: i + frame_size]\n",
    "        # Retrieve the most often used label in this segment\n",
    "        label = stats.mode(df['ActivityLabel'][i: i + frame_size])[0][0]\n",
    "\n",
    "        frames.append([x, y, z])\n",
    "        labels.append(label)\n",
    "\n",
    "    # Bring the segments into a better shape\n",
    "    frames = np.asarray(frames).reshape(-1, frame_size, N_FEATURES)\n",
    "    labels = np.asarray(labels)\n",
    "\n",
    "    return frames, labels"
   ]
  },
  {
   "cell_type": "code",
   "execution_count": 271,
   "metadata": {},
   "outputs": [],
   "source": [
    "X, y = get_frames(scaled_X, frame_size, hop_size)"
   ]
  },
  {
   "cell_type": "code",
   "execution_count": 272,
   "metadata": {},
   "outputs": [],
   "source": [
    "X_train, X_test, y_train, y_test = train_test_split(X, y, test_size = 0.3, random_state = 0, stratify = y)"
   ]
  },
  {
   "cell_type": "code",
   "execution_count": 273,
   "metadata": {},
   "outputs": [
    {
     "data": {
      "text/plain": [
       "((216, 200, 3), (93, 200, 3))"
      ]
     },
     "execution_count": 273,
     "metadata": {},
     "output_type": "execute_result"
    }
   ],
   "source": [
    "X_train.shape, X_test.shape"
   ]
  },
  {
   "cell_type": "code",
   "execution_count": 224,
   "metadata": {},
   "outputs": [],
   "source": [
    "#train Data\n",
    "# X_train = X_train.reshape(1476, 200, 3, 1)\n",
    "# X_test = X_test.reshape(633, 200, 3, 1)"
   ]
  },
  {
   "cell_type": "code",
   "execution_count": 274,
   "metadata": {},
   "outputs": [],
   "source": [
    "#test Data\n",
    "X_train = X_train.reshape(216, 200, 3, 1)\n",
    "X_test = X_test.reshape(93, 200, 3, 1)"
   ]
  },
  {
   "cell_type": "code",
   "execution_count": 275,
   "metadata": {},
   "outputs": [],
   "source": [
    "model = Sequential()\n",
    "model.add(Conv2D(16, (2, 2), activation = 'relu', input_shape = X_train[0].shape))\n",
    "model.add(Dropout(0.1))\n",
    "\n",
    "model.add(Conv2D(32, (2, 2), activation='relu'))\n",
    "model.add(Dropout(0.2))\n",
    "\n",
    "model.add(Flatten())\n",
    "\n",
    "model.add(Dense(64, activation = 'relu'))\n",
    "model.add(Dropout(0.5))\n",
    "\n",
    "model.add(Dense(6, activation='softmax'))\n"
   ]
  },
  {
   "cell_type": "code",
   "execution_count": 276,
   "metadata": {},
   "outputs": [],
   "source": [
    "model.compile(optimizer=Adam(learning_rate = 0.001), loss = 'sparse_categorical_crossentropy', metrics = ['accuracy'])"
   ]
  },
  {
   "cell_type": "code",
   "execution_count": 277,
   "metadata": {},
   "outputs": [
    {
     "name": "stdout",
     "output_type": "stream",
     "text": [
      "Epoch 1/40\n",
      "7/7 [==============================] - 1s 48ms/step - loss: 0.9209 - accuracy: 0.6481 - val_loss: 0.4001 - val_accuracy: 0.8387\n",
      "Epoch 2/40\n",
      "7/7 [==============================] - 0s 25ms/step - loss: 0.5332 - accuracy: 0.8148 - val_loss: 0.3241 - val_accuracy: 0.8817\n",
      "Epoch 3/40\n",
      "7/7 [==============================] - 0s 23ms/step - loss: 0.4020 - accuracy: 0.8750 - val_loss: 0.3133 - val_accuracy: 0.8925\n",
      "Epoch 4/40\n",
      "7/7 [==============================] - 0s 23ms/step - loss: 0.3777 - accuracy: 0.8565 - val_loss: 0.3221 - val_accuracy: 0.8387\n",
      "Epoch 5/40\n",
      "7/7 [==============================] - 0s 26ms/step - loss: 0.3379 - accuracy: 0.8472 - val_loss: 0.3092 - val_accuracy: 0.8602\n",
      "Epoch 6/40\n",
      "7/7 [==============================] - 0s 25ms/step - loss: 0.3196 - accuracy: 0.8704 - val_loss: 0.2906 - val_accuracy: 0.8817\n",
      "Epoch 7/40\n",
      "7/7 [==============================] - 0s 23ms/step - loss: 0.2824 - accuracy: 0.8935 - val_loss: 0.2983 - val_accuracy: 0.8925\n",
      "Epoch 8/40\n",
      "7/7 [==============================] - 0s 20ms/step - loss: 0.2664 - accuracy: 0.8981 - val_loss: 0.3706 - val_accuracy: 0.7957\n",
      "Epoch 9/40\n",
      "7/7 [==============================] - 0s 23ms/step - loss: 0.3051 - accuracy: 0.8704 - val_loss: 0.3044 - val_accuracy: 0.8602\n",
      "Epoch 10/40\n",
      "7/7 [==============================] - 0s 21ms/step - loss: 0.2679 - accuracy: 0.9074 - val_loss: 0.3096 - val_accuracy: 0.8817\n",
      "Epoch 11/40\n",
      "7/7 [==============================] - 0s 25ms/step - loss: 0.2593 - accuracy: 0.9167 - val_loss: 0.3014 - val_accuracy: 0.8387\n",
      "Epoch 12/40\n",
      "7/7 [==============================] - 0s 21ms/step - loss: 0.2214 - accuracy: 0.9074 - val_loss: 0.2931 - val_accuracy: 0.8280\n",
      "Epoch 13/40\n",
      "7/7 [==============================] - 0s 24ms/step - loss: 0.2380 - accuracy: 0.8981 - val_loss: 0.3082 - val_accuracy: 0.8602\n",
      "Epoch 14/40\n",
      "7/7 [==============================] - 0s 20ms/step - loss: 0.2333 - accuracy: 0.9167 - val_loss: 0.2987 - val_accuracy: 0.8387\n",
      "Epoch 15/40\n",
      "7/7 [==============================] - 0s 22ms/step - loss: 0.2337 - accuracy: 0.9028 - val_loss: 0.3080 - val_accuracy: 0.8387\n",
      "Epoch 16/40\n",
      "7/7 [==============================] - 0s 24ms/step - loss: 0.2066 - accuracy: 0.9213 - val_loss: 0.3162 - val_accuracy: 0.8710\n",
      "Epoch 17/40\n",
      "7/7 [==============================] - 0s 25ms/step - loss: 0.2284 - accuracy: 0.9120 - val_loss: 0.3050 - val_accuracy: 0.8387\n",
      "Epoch 18/40\n",
      "7/7 [==============================] - 0s 21ms/step - loss: 0.2241 - accuracy: 0.9074 - val_loss: 0.2956 - val_accuracy: 0.8710\n",
      "Epoch 19/40\n",
      "7/7 [==============================] - 0s 26ms/step - loss: 0.2084 - accuracy: 0.9213 - val_loss: 0.2970 - val_accuracy: 0.8602\n",
      "Epoch 20/40\n",
      "7/7 [==============================] - 0s 23ms/step - loss: 0.1882 - accuracy: 0.9259 - val_loss: 0.3376 - val_accuracy: 0.8065\n",
      "Epoch 21/40\n",
      "7/7 [==============================] - 0s 20ms/step - loss: 0.1893 - accuracy: 0.9306 - val_loss: 0.3386 - val_accuracy: 0.8387\n",
      "Epoch 22/40\n",
      "7/7 [==============================] - 0s 22ms/step - loss: 0.1736 - accuracy: 0.9259 - val_loss: 0.3454 - val_accuracy: 0.8280\n",
      "Epoch 23/40\n",
      "7/7 [==============================] - 0s 24ms/step - loss: 0.1644 - accuracy: 0.9259 - val_loss: 0.3398 - val_accuracy: 0.8280\n",
      "Epoch 24/40\n",
      "7/7 [==============================] - 0s 28ms/step - loss: 0.1794 - accuracy: 0.9213 - val_loss: 0.3240 - val_accuracy: 0.8280\n",
      "Epoch 25/40\n",
      "7/7 [==============================] - 0s 40ms/step - loss: 0.1703 - accuracy: 0.9306 - val_loss: 0.3287 - val_accuracy: 0.8280\n",
      "Epoch 26/40\n",
      "7/7 [==============================] - 0s 33ms/step - loss: 0.1714 - accuracy: 0.9352 - val_loss: 0.3307 - val_accuracy: 0.8280\n",
      "Epoch 27/40\n",
      "7/7 [==============================] - 0s 24ms/step - loss: 0.1752 - accuracy: 0.9306 - val_loss: 0.3160 - val_accuracy: 0.8387\n",
      "Epoch 28/40\n",
      "7/7 [==============================] - 0s 28ms/step - loss: 0.1275 - accuracy: 0.9444 - val_loss: 0.3413 - val_accuracy: 0.8387\n",
      "Epoch 29/40\n",
      "7/7 [==============================] - 0s 31ms/step - loss: 0.1559 - accuracy: 0.9444 - val_loss: 0.3330 - val_accuracy: 0.8280\n",
      "Epoch 30/40\n",
      "7/7 [==============================] - 0s 29ms/step - loss: 0.1537 - accuracy: 0.9491 - val_loss: 0.3701 - val_accuracy: 0.8602\n",
      "Epoch 31/40\n",
      "7/7 [==============================] - 0s 25ms/step - loss: 0.1210 - accuracy: 0.9491 - val_loss: 0.3393 - val_accuracy: 0.8495\n",
      "Epoch 32/40\n",
      "7/7 [==============================] - 0s 36ms/step - loss: 0.1257 - accuracy: 0.9444 - val_loss: 0.3414 - val_accuracy: 0.8495\n",
      "Epoch 33/40\n",
      "7/7 [==============================] - 0s 31ms/step - loss: 0.1224 - accuracy: 0.9583 - val_loss: 0.3732 - val_accuracy: 0.8710\n",
      "Epoch 34/40\n",
      "7/7 [==============================] - 0s 50ms/step - loss: 0.1300 - accuracy: 0.9398 - val_loss: 0.3692 - val_accuracy: 0.8495\n",
      "Epoch 35/40\n",
      "7/7 [==============================] - 0s 43ms/step - loss: 0.1153 - accuracy: 0.9630 - val_loss: 0.3710 - val_accuracy: 0.8387\n",
      "Epoch 36/40\n",
      "7/7 [==============================] - 0s 38ms/step - loss: 0.1360 - accuracy: 0.9537 - val_loss: 0.3735 - val_accuracy: 0.8602\n",
      "Epoch 37/40\n",
      "7/7 [==============================] - 0s 23ms/step - loss: 0.0994 - accuracy: 0.9769 - val_loss: 0.3781 - val_accuracy: 0.8710\n",
      "Epoch 38/40\n",
      "7/7 [==============================] - 0s 22ms/step - loss: 0.0979 - accuracy: 0.9722 - val_loss: 0.3853 - val_accuracy: 0.8495\n",
      "Epoch 39/40\n",
      "7/7 [==============================] - 0s 18ms/step - loss: 0.0937 - accuracy: 0.9769 - val_loss: 0.4248 - val_accuracy: 0.8495\n",
      "Epoch 40/40\n",
      "7/7 [==============================] - 0s 19ms/step - loss: 0.0881 - accuracy: 0.9583 - val_loss: 0.4515 - val_accuracy: 0.8387\n"
     ]
    }
   ],
   "source": [
    "history = model.fit(X_train, y_train, epochs = 40, validation_data= (X_test, y_test), verbose=1)"
   ]
  },
  {
   "cell_type": "code",
   "execution_count": 278,
   "metadata": {},
   "outputs": [],
   "source": [
    "from mlxtend.plotting import plot_confusion_matrix\n",
    "from sklearn.metrics import confusion_matrix"
   ]
  },
  {
   "cell_type": "code",
   "execution_count": 279,
   "metadata": {},
   "outputs": [],
   "source": [
    "pred = model.predict(X_test, batch_size = 32)\n",
    "pred = np.argmax(pred, axis=1)"
   ]
  },
  {
   "cell_type": "code",
   "execution_count": 280,
   "metadata": {},
   "outputs": [
    {
     "data": {
      "text/plain": [
       "(<Figure size 504x504 with 1 Axes>,\n",
       " <matplotlib.axes._subplots.AxesSubplot at 0x23ae96740d0>)"
      ]
     },
     "execution_count": 280,
     "metadata": {},
     "output_type": "execute_result"
    },
    {
     "data": {
      "image/png": "[encoded data removed]",
      "text/plain": [
       "<Figure size 504x504 with 1 Axes>"
      ]
     },
     "metadata": {},
     "output_type": "display_data"
    }
   ],
   "source": [
    "import seaborn as sns\n",
    "mat = confusion_matrix(y_test, pred)\n",
    "plot_confusion_matrix(conf_mat=mat, class_names=label.classes_, show_normed=True, figsize=(7,7))"
   ]
  },
  {
   "cell_type": "code",
   "execution_count": 281,
   "metadata": {},
   "outputs": [
    {
     "name": "stdout",
     "output_type": "stream",
     "text": [
      "test loss, test acc: [0.08472447842359543, 1.0]\n"
     ]
    }
   ],
   "source": [
    "score = model.evaluate(X_test, pred, verbose=0)\n",
    "print(\"test loss, test acc:\", score)"
   ]
  },
  {
   "cell_type": "code",
   "execution_count": 260,
   "metadata": {},
   "outputs": [],
   "source": []
  },
  {
   "cell_type": "code",
   "execution_count": null,
   "metadata": {},
   "outputs": [],
   "source": []
  }
 ],
 "metadata": {
  "kernelspec": {
   "display_name": "Python 3",
   "language": "python",
   "name": "python3"
  },
  "language_info": {
   "codemirror_mode": {
    "name": "ipython",
    "version": 3
   },
   "file_extension": ".py",
   "mimetype": "text/x-python",
   "name": "python",
   "nbconvert_exporter": "python",
   "pygments_lexer": "ipython3",
   "version": "3.7.4"
  }
 },
 "nbformat": 4,
 "nbformat_minor": 4
}
